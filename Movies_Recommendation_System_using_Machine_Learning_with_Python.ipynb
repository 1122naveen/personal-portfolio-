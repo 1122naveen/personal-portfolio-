{
  "nbformat": 4,
  "nbformat_minor": 0,
  "metadata": {
    "colab": {
      "provenance": [],
      "mount_file_id": "1bYGjtoFNI-Jqof0G2ht4AEC0HxhqiRIV",
      "authorship_tag": "ABX9TyOg6d+UhXibe9XKhfLsmDmV",
      "include_colab_link": true
    },
    "kernelspec": {
      "name": "python3",
      "display_name": "Python 3"
    },
    "language_info": {
      "name": "python"
    }
  },
  "cells": [
    {
      "cell_type": "markdown",
      "metadata": {
        "id": "view-in-github",
        "colab_type": "text"
      },
      "source": [
        "<a href=\"https://colab.research.google.com/github/1122naveen/personal-portfolio-/blob/master/Movies_Recommendation_System_using_Machine_Learning_with_Python.ipynb\" target=\"_parent\"><img src=\"https://colab.research.google.com/assets/colab-badge.svg\" alt=\"Open In Colab\"/></a>"
      ]
    },
    {
      "cell_type": "code",
      "execution_count": null,
      "metadata": {
        "id": "v8GbZEE23Vne"
      },
      "outputs": [],
      "source": []
    },
    {
      "cell_type": "markdown",
      "source": [
        "Importing the dependencies"
      ],
      "metadata": {
        "id": "qwat93sO82h9"
      }
    },
    {
      "cell_type": "code",
      "source": [
        "import numpy as np\n",
        "import pandas as pd\n",
        "import difflib\n",
        "from sklearn.feature_extraction.text import TfidfVectorizer\n",
        "from sklearn.metrics.pairwise import cosine_similarity"
      ],
      "metadata": {
        "id": "NdhquP0u9GTu"
      },
      "execution_count": 2,
      "outputs": []
    },
    {
      "cell_type": "markdown",
      "source": [
        "Data Collection and Pre-Processing"
      ],
      "metadata": {
        "id": "yy1Netqt-oBG"
      }
    },
    {
      "cell_type": "code",
      "source": [
        "# loading the data from the csv file to apandas dataframe\n",
        "movies_data = pd.read_csv('/content/movies.csv', engine='python', on_bad_lines='skip')"
      ],
      "metadata": {
        "id": "KjTGivz7-xQ_"
      },
      "execution_count": 15,
      "outputs": []
    },
    {
      "cell_type": "code",
      "metadata": {
        "colab": {
          "base_uri": "https://localhost:8080/"
        },
        "id": "92dbc138",
        "outputId": "00590eff-7218-4518-cba0-d92138e4348b"
      },
      "source": [
        "file_path = '/content/movies.csv'\n",
        "try:\n",
        "    with open(file_path, 'r', encoding='utf-8') as f:\n",
        "        for i, line in enumerate(f):\n",
        "            if i >= 185 and i <= 195: # Check lines around row 190\n",
        "                print(f\"Line {i+1}: {line.strip()}\")\n",
        "except Exception as e:\n",
        "    print(f\"Error reading file: {e}\")"
      ],
      "execution_count": 14,
      "outputs": [
        {
          "output_type": "stream",
          "name": "stdout",
          "text": [
            "Line 186: 286,100000000,Action Drama Mystery Thriller,http://www.warnerbros.com/eraser,9268,suicide ambush showdown hostage traitor,en,Eraser,\"U.S. Marshall John Kruger erases the identities of people enrolled in the Witness Protection Program. His current assignment is to protect Lee Cullen, who's uncovered evidence that the weapons manufacturer she works for has been selling to terrorist groups. When Kruger discovers that there's a corrupt agent within the program, he must guard his own life while trying to protect Lee's.\",24.507987,\"[{\"\"name\"\": \"\"Kopelson Entertainment\"\", \"\"id\"\": 824}, {\"\"name\"\": \"\"Warner Bros.\"\", \"\"id\"\": 6194}]\",\"[{\"\"iso_3166_1\"\": \"\"CA\"\", \"\"name\"\": \"\"Canada\"\"}, {\"\"iso_3166_1\"\": \"\"US\"\", \"\"name\"\": \"\"United States of America\"\"}]\",1996-06-21,242295562,115.0,\"[{\"\"iso_639_1\"\": \"\"en\"\", \"\"name\"\": \"\"English\"\"}]\",Released,He will erase your past to protect your future.,Eraser,5.6,543,Arnold Schwarzenegger James Caan Vanessa Williams James Coburn Robert Pastorelli,\"[{'name': 'Alan Silvestri', 'gender': 2, 'department': 'Sound', 'job': 'Original Music Composer', 'credit_id': '52fe44dfc3a36847f80aefe9', 'id': 37}, {'name': 'Doug Jackson', 'gender': 2, 'department': 'Sound', 'job': 'Sound Effects Editor', 'credit_id': '54f4496a9251417992001bb8', 'id': 373}, {'name': 'Bub Asman', 'gender': 0, 'department': 'Sound', 'job': 'Supervising Sound Editor', 'credit_id': '54f4488ec3a3681ddd001e43', 'id': 375}, {'name': 'Bonnie Timmermann', 'gender': 1, 'department': 'Production', 'job': 'Casting', 'credit_id': '54f44448c3a3681dda0018e6', 'id': 897}, {'name': 'Michael Tronick', 'gender': 2, 'department': 'Editing', 'job': 'Editor', 'credit_id': '52fe44dfc3a36847f80aeff5', 'id': 908}, {'name': 'Adam Greenberg', 'gender': 2, 'department': 'Camera', 'job': 'Director of Photography', 'credit_id': '52fe44dfc3a36847f80aefef', 'id': 2723}, {'name': 'Jeff Dawn', 'gender': 0, 'department': 'Costume & Make-Up', 'job': 'Makeup Department Head', 'credit_id': '54f4463bc3a36850f30016e5', 'id': 3995}, {'name': 'Samuel C. Crutcher', 'gender': 0, 'department': 'Sound', 'job': 'Sound Effects Editor', 'credit_id': '54f44937c3a3681de0001e6f', 'id': 4715}, {'name': 'Walon Green', 'gender': 2, 'department': 'Writing', 'job': 'Screenplay', 'credit_id': '52fe44dfc3a36847f80aefb9', 'id': 7765}, {'name': 'Walon Green', 'gender': 2, 'department': 'Writing', 'job': 'Writer', 'credit_id': '52fe44dfc3a36847f80af02d', 'id': 7765}, {'name': 'William Ladd Skinner', 'gender': 2, 'department': 'Art', 'job': 'Art Direction', 'credit_id': '54f4454c9251410c3e0015cb', 'id': 8848}, {'name': 'Bill Kenney', 'gender': 2, 'department': 'Art', 'job': 'Production Design', 'credit_id': '54f44533c3a3681de0001de0', 'id': 10187}, {'name': 'Garrett Lewis', 'gender': 2, 'department': 'Art', 'job': 'Set Decoration', 'credit_id': '54f4457b925141799d001a87', 'id': 11413}, {'name': 'Richard Bruno', 'gender': 2, 'department': 'Costume & Make-Up', 'job': 'Costume Design', 'credit_id': '54f445aa9251410bfe001518', 'id': 11476}, {'name': 'Arnold Kopelson', 'gender': 2, 'department': 'Production', 'job': 'Producer', 'credit_id': '52fe44dfc3a36847f80aefd1', 'id': 10764}, {'name': 'Anne Kopelson', 'gender': 1, 'department': 'Production', 'job': 'Producer', 'credit_id': '52fe44dfc3a36847f80aefcb', 'id': 12050}, {'name': 'Chuck Russell', 'gender': 2, 'department': 'Directing', 'job': 'Director', 'credit_id': '52fe44dfc3a36847f80aefad', 'id': 26713}, {'name': 'Chuck Russell', 'gender': 2, 'department': 'Production', 'job': 'Executive Producer', 'credit_id': '52fe44dfc3a36847f80aefdd', 'id': 26713}, {'name': 'Tom Priestley Jr.', 'gender': 0, 'department': 'Crew', 'job': 'Second Unit Cinematographer', 'credit_id': '54f44d28925141799d001b46', 'id': 13931}, {'name': 'Terry D. Frazee', 'gender': 0, 'department': 'Crew', 'job': 'Special Effects Coordinator', 'credit_id': '54f44a45c3a3681de0001e84', 'id': 15847}, {'name': 'Joel Kramer', 'gender': 2, 'department': 'Crew', 'job': 'Stunt Coordinator', 'credit_id': '54f44c9dc3a3681ddd001eb7', 'id': 13458}, {'name': 'Michael Tadross', 'gender': 2, 'department': 'Production', 'job': 'Executive Producer', 'credit_id': '52fe44dfc3a36847f80aefe3', 'id': 17630}, {'name': 'Norman Kent', 'gender': 0, 'department': 'Camera', 'job': 'Camera Operator', 'credit_id': '54f44cecc3a3681ddd001ebe', 'id': 21393}, {'name': 'Peter M. Tobyansen', 'gender': 2, 'department': 'Production', 'job': 'Location Manager', 'credit_id': '54f44edbc3a36850f30017de', 'id': 42265}, {'name': 'Michael St. Hilaire', 'gender': 0, 'department': 'Camera', 'job': 'Camera Operator', 'credit_id': '54f44d41c3a3681dda0019b2', 'id': 36428}, {'name': 'Joel Hynek', 'gender': 0, 'department': 'Visual Effects', 'job': 'Visual Effects Supervisor', 'credit_id': '54f44c4f925141799d001b32', 'id': 54272}, {'name': 'Tony Puryear', 'gender': 0, 'department': 'Writing', 'job': 'Screenplay', 'credit_id': '52fe44dfc3a36847f80aefb3', 'id': 57074}, {'name': 'Tony Puryear', 'gender': 0, 'department': 'Writing', 'job': 'Writer', 'credit_id': '52fe44dfc3a36847f80af027', 'id': 57074}, {'name': 'Stephen Joel Brown', 'gender': 2, 'department': 'Production', 'job': 'Co-Producer', 'credit_id': '559014f6c3a3682471000f27', 'id': 57076}, {'name': 'Frank Capra III', 'gender': 2, 'department': 'Production', 'job': 'Associate Producer', 'credit_id': '559015029251412c43000ca8', 'id': 57077}, {'name': 'Caroline Pham', 'gender': 0, 'department': 'Production', 'job': 'Co-Producer', 'credit_id': '5590150cc3a36843490033d3', 'id': 57078}, {'name': 'Mike Benson', 'gender': 2, 'department': 'Crew', 'job': 'Second Unit Cinematographer', 'credit_id': '54f44cd1c3a3681dd4001cec', 'id': 65238}, {'name': 'Dawn Snyder', 'gender': 1, 'department': 'Art', 'job': 'Assistant Art Director', 'credit_id': '54f446efc3a3681ddd001e0f', 'id': 76708}, {'name': 'Scott Leberecht', 'gender': 0, 'department': 'Crew', 'job': 'Visual Effects Art Director', 'credit_id': '54f44b0c925141799f001b28', 'id': 141184}, {'name': 'Michael S. Chernuchin', 'gender': 0, 'department': 'Writing', 'job': 'Writer', 'credit_id': '52fe44dfc3a36847f80af033', 'id': 164579}, {'name': 'Bruce McBroom', 'gender': 2, 'department': 'Camera', 'job': 'Still Photographer', 'credit_id': '54f44d78c3a3681de0001ed4', 'id': 555085}, {'name': 'Denise Ream', 'gender': 1, 'department': 'Visual Effects', 'job': 'Visual Effects Producer', 'credit_id': '54f44be8925141799a001b57', 'id': 970529}, {'name': 'Moshe Levin', 'gender': 0, 'department': 'Camera', 'job': 'Camera Operator', 'credit_id': '54f44d10c3a36850f30017a7', 'id': 1102820}, {'name': 'Jeffrey J. Haboush', 'gender': 0, 'department': 'Sound', 'job': 'Sound Re-Recording Mixer', 'credit_id': '54f449fd92514179a7001d1c', 'id': 1341138}, {'name': 'Kevin E. Carpenter', 'gender': 0, 'department': 'Sound', 'job': 'Sound Re-Recording Mixer', 'credit_id': '54f449e59251410bfe0015b1', 'id': 1341808}, {'name': 'James J. Klinger', 'gender': 0, 'department': 'Sound', 'job': 'Sound Effects Editor', 'credit_id': '54f44992c3a3681ddd001e6a', 'id': 1342639}, {'name': 'Alan Robert Murray', 'gender': 2, 'department': 'Sound', 'job': 'Supervising Sound Editor', 'credit_id': '54f448b2925141799f001ade', 'id': 1368865}, {'name': 'Lucy Coldsnow-Smith', 'gender': 0, 'department': 'Editing', 'job': 'Dialogue Editor', 'credit_id': '54f4479792514179a7001cd8', 'id': 1377125}, {'name': 'Joseph F. Valentine', 'gender': 0, 'department': 'Camera', 'job': 'Camera Operator', 'credit_id': '54f44d5bc3a36850f30017ae', 'id': 1378174}, {'name': 'Will Kaplan', 'gender': 0, 'department': 'Sound', 'job': 'Music Editor', 'credit_id': '54f44e08925141799d001b56', 'id': 1388879}, {'name': 'Patrick J. Foley', 'gender': 0, 'department': 'Editing', 'job': 'Dialogue Editor', 'credit_id': '54f447b1925141799f001ac3', 'id': 1392127}, {'name': 'John F. Reynolds', 'gender': 0, 'department': 'Editing', 'job': 'Dialogue Editor', 'credit_id': '54f447cec3a3681dda001936', 'id': 1392129}, {'name': 'Christopher S. Aud', 'gender': 0, 'department': 'Sound', 'job': 'Sound Effects Editor', 'credit_id': '54f448cb925141799f001ae3', 'id': 1392131}, {'name': 'John Voss Bonds Jr.', 'gender': 0, 'department': 'Sound', 'job': 'Sound Effects Editor', 'credit_id': '54f4490c9251410c2a00141b', 'id': 1392132}, {'name': 'Kenneth Karman', 'gender': 2, 'department': 'Sound', 'job': 'Music Editor', 'credit_id': '54f44e1cc3a3683455000ea3', 'id': 1394306}, {'name': 'Michael Gleason', 'gender': 0, 'department': 'Crew', 'job': 'Visual Effects Editor', 'credit_id': '54f44bc69251417992001bf0', 'id': 1401105}, {'name': 'Catherine Flynn', 'gender': 0, 'department': 'Sound', 'job': 'ADR & Dubbing', 'credit_id': '54f44804925141799f001ac9', 'id': 1401258}, {'name': 'Marvin Salsberg', 'gender': 0, 'department': 'Art', 'job': 'Construction Coordinator', 'credit_id': '54f447089251410c3e0015f3', 'id': 1401758}, {'name': 'Steve Newman', 'gender': 0, 'department': 'Production', 'job': 'Publicist', 'credit_id': '54f44f19c3a3681ddd001eea', 'id': 1403550}, {'name': 'Jessica Gallavan', 'gender': 0, 'department': 'Sound', 'job': 'ADR & Dubbing', 'credit_id': '54f4481dc3a36850f3001719', 'id': 1405814}, {'name': 'Michael L. Fink', 'gender': 0, 'department': 'Visual Effects', 'job': 'Visual Effects Supervisor', 'credit_id': '54f44c2c9251410c3e001676', 'id': 1406922}, {'name': 'Peter Tothpal', 'gender': 0, 'department': 'Costume & Make-Up', 'job': 'Hairstylist', 'credit_id': '54f445f89251410bfe001524', 'id': 1411166}, {'name': 'John E. Sullivan', 'gender': 2, 'department': 'Visual Effects', 'job': 'Visual Effects Supervisor', 'credit_id': '54f44c7bc3a3683455000e81', 'id': 1412201}, {'name': 'Louis Lazzara', 'gender': 0, 'department': 'Costume & Make-Up', 'job': 'Makeup Artist', 'credit_id': '54f44687c3a3681dd4001c5b', 'id': 1412224}, {'name': 'Beatrice De Alba', 'gender': 1, 'department': 'Costume & Make-Up', 'job': 'Hairstylist', 'credit_id': '54f446179251410bfe001526', 'id': 1415328}, {'name': 'Jim Kail', 'gender': 0, 'department': 'Costume & Make-Up', 'job': 'Makeup Artist', 'credit_id': '54f44655c3a3681deb001ae1', 'id': 1423987}, {'name': 'Walter Newman', 'gender': 0, 'department': 'Sound', 'job': 'Sound Effects Editor', 'credit_id': '5673283792514163c20033a5', 'id': 1424782}, {'name': 'Patrick Bietz', 'gender': 0, 'department': 'Sound', 'job': 'Sound Effects Editor', 'credit_id': '54f448f6c3a3681de0001e61', 'id': 1428852}, {'name': 'Dayne Johnson', 'gender': 0, 'department': 'Costume & Make-Up', 'job': 'Makeup Artist', 'credit_id': '54f4466bc3a3683455000dfb', 'id': 1431996}, {'name': 'Joe Olsen', 'gender': 0, 'department': 'Crew', 'job': 'Property Master', 'credit_id': '54f44725925141799f001ab9', 'id': 1434203}, {'name': 'Dennis J. Parrish', 'gender': 0, 'department': 'Crew', 'job': 'Property Master', 'credit_id': '54f4473c9251410c3e0015fa', 'id': 1434205}, {'name': 'Dave Newhouse', 'gender': 0, 'department': 'Art', 'job': 'Greensman', 'credit_id': '54f447539251410bfe001550', 'id': 1434207}, {'name': 'Jerelyn J. Harding', 'gender': 0, 'department': 'Sound', 'job': 'ADR & Dubbing', 'credit_id': '54f44848c3a3681ddd001e3c', 'id': 1434210}, {'name': 'Kate Crossley', 'gender': 0, 'department': 'Crew', 'job': 'Visual Effects Editor', 'credit_id': '54f44b46c3a3681deb001b47', 'id': 1434214}, {'name': 'Lisa Fisher', 'gender': 0, 'department': 'Visual Effects', 'job': 'Visual Effects Producer', 'credit_id': '54f44b649251410c2a00145e', 'id': 1434215}, {'name': 'Patrice Dinhut', 'gender': 0, 'department': 'Visual Effects', 'job': 'Visual Effects Supervisor', 'credit_id': '54f44c11c3a3681ddd001eaa', 'id': 1434220}, {'name': 'Hugo Pe\\\\u00f1a', 'gender': 0, 'department': 'Costume & Make-Up', 'job': 'Costume Supervisor', 'credit_id': '54f44db6c3a36850f30017bc', 'id': 1434221}, {'name': 'Wayne R. Campbell', 'gender': 0, 'department': 'Crew', 'job': 'Transportation Coordinator', 'credit_id': '54f44e49c3a3681deb001b8c', 'id': 1434223}, {'name': 'Dawn C. Dreiling', 'gender': 0, 'department': 'Directing', 'job': 'Script Supervisor', 'credit_id': '54f44e62c3a3681deb001b94', 'id': 1434224}, {'name': 'Susan Malerstein', 'gender': 0, 'department': 'Directing', 'job': 'Script Supervisor', 'credit_id': '54f44e809251417992001c24', 'id': 1434225}, {'name': 'Roger Huynh', 'gender': 0, 'department': 'Visual Effects', 'job': 'VFX Artist', 'credit_id': '554ec127925141402a005b4c', 'id': 1460602}, {'name': 'Alison E. McBryde', 'gender': 0, 'department': 'Production', 'job': 'Casting Associate', 'credit_id': '56471b589251413ade002cda', 'id': 1535952}]\",Chuck Russell\n",
            "Line 187: 287,100000000,Drama Western,http://unchainedmovie.com/,68718,bounty hunter hero plantation society friendship,en,Django Unchained,\"With the help of a German bounty hunter, a freed slave sets out to rescue his wife from a brutal Mississippi plantation owner.\",82.121691,\"[{\"\"name\"\": \"\"Columbia Pictures\"\", \"\"id\"\": 5}, {\"\"name\"\": \"\"The Weinstein Company\"\", \"\"id\"\": 308}]\",\"[{\"\"iso_3166_1\"\": \"\"US\"\", \"\"name\"\": \"\"United States of America\"\"}]\",2012-12-25,425368238,165.0,\"[{\"\"iso_639_1\"\": \"\"en\"\", \"\"name\"\": \"\"English\"\"}, {\"\"iso_639_1\"\": \"\"fr\"\", \"\"name\"\": \"\"Fran\\u00e7ais\"\"}, {\"\"iso_639_1\"\": \"\"de\"\", \"\"name\"\": \"\"Deutsch\"\"}]\",Released,\"Life, liberty and the pursuit of vengeance.\",Django Unchained,7.8,10099,Jamie Foxx Christoph Waltz Leonardo DiCaprio Kerry Washington Samuel L. Jackson,\"[{'name': 'Robert Rodriguez', 'gender': 0, 'department': 'Crew', 'job': 'Thanks', 'credit_id': '5703f6a2c3a36869850001d9', 'id': 2294}, {'name': 'Quentin Tarantino', 'gender': 2, 'department': 'Directing', 'job': 'Director', 'credit_id': '52fe479fc3a368484e0d12d1', 'id': 138}, {'name': 'Quentin Tarantino', 'gender': 2, 'department': 'Writing', 'job': 'Writer', 'credit_id': '52fe479fc3a368484e0d12d7', 'id': 138}, {'name': 'Robert Richardson', 'gender': 2, 'department': 'Camera', 'job': 'Director of Photography', 'credit_id': '52fe479fc3a368484e0d1385', 'id': 149}, {'name': 'Harry Cohen', 'gender': 2, 'department': 'Sound', 'job': 'Sound Designer', 'credit_id': '54d88b9b9251417160007d50', 'id': 3687}, {'name': 'Victoria Thomas', 'gender': 1, 'department': 'Production', 'job': 'Casting', 'credit_id': '52fe479fc3a368484e0d1391', 'id': 547}, {'name': 'Bob Weinstein', 'gender': 2, 'department': 'Production', 'job': 'Executive Producer', 'credit_id': '52fe479fc3a368484e0d136d', 'id': 1307}, {'name': 'Harvey Weinstein', 'gender': 2, 'department': 'Production', 'job': 'Executive Producer', 'credit_id': '52fe479fc3a368484e0d135b', 'id': 59839}, {'name': 'James W. Skotchdopole', 'gender': 2, 'department': 'Production', 'job': 'Executive Producer', 'credit_id': '52fe479fc3a368484e0d1373', 'id': 4701}, {'name': 'James W. Skotchdopole', 'gender': 2, 'department': 'Production', 'job': 'Unit Production Manager', 'credit_id': '57030e2f9251416cb20008de', 'id': 4701}, {'name': 'RZA', 'gender': 2, 'department': 'Crew', 'job': 'Thanks', 'credit_id': '5703f6d99251415bb00001d8', 'id': 150}, {'name': 'Michael Shamberg', 'gender': 2, 'department': 'Production', 'job': 'Executive Producer', 'credit_id': '52fe479fc3a368484e0d1379', 'id': 5381}, {'name': 'Stacey Sher', 'gender': 1, 'department': 'Production', 'job': 'Producer', 'credit_id': '52fe479fc3a368484e0d1301', 'id': 5382}, {'name': 'Richard Roundtree', 'gender': 2, 'department': 'Crew', 'job': 'Thanks', 'credit_id': '5703f6b8c3a36869740001e9', 'id': 6487}, {'name': 'Sacha Baron Cohen', 'gender': 2, 'department': 'Crew', 'job': 'Thanks', 'credit_id': '5703f61fc3a3686977000216', 'id': 6730}, {'name': 'Kurt Russell', 'gender': 2, 'department': 'Crew', 'job': 'Thanks', 'credit_id': '5703f6c99251415bad0001f1', 'id': 6856}, {'name': 'J. Michael Riva', 'gender': 2, 'department': 'Art', 'job': 'Production Design', 'credit_id': '52fe479fc3a368484e0d1397', 'id': 13304}, {'name': 'Leslie A. Pope', 'gender': 0, 'department': 'Art', 'job': 'Set Decoration', 'credit_id': '52fe479fc3a368484e0d13af', 'id': 19157}, {'name': 'Tim Monich', 'gender': 0, 'department': 'Crew', 'job': 'Dialect Coach', 'credit_id': '54d88e849251416ba8007170', 'id': 13050}, {'name': 'Tony Lamberti', 'gender': 0, 'department': 'Sound', 'job': 'Sound Re-Recording Mixer', 'credit_id': '54d88bb092514154a100057f', 'id': 13179}, {'name': 'David F. Klassen', 'gender': 2, 'department': 'Art', 'job': 'Art Direction', 'credit_id': '52fe479fc3a368484e0d13a3', 'id': 14349}, {'name': 'Sharen Davis', 'gender': 1, 'department': 'Costume & Make-Up', 'job': 'Costume Design', 'credit_id': '52fe479fc3a368484e0d13b5', 'id': 15573}, {'name': 'Franco Nero', 'gender': 2, 'department': 'Crew', 'job': 'Thanks', 'credit_id': '5703f682c3a368697a000197', 'id': 22383}, {'name': 'Page Buckner', 'gender': 0, 'department': 'Art', 'job': 'Art Direction', 'credit_id': '52fe479fc3a368484e0d139d', 'id': 18867}, {'name': 'Jeffrey J. Dashnaw', 'gender': 2, 'department': 'Crew', 'job': 'Stunt Coordinator', 'credit_id': '54d88c5592514154a1000592', 'id': 23285}, {'name': 'Joseph Gordon-Levitt', 'gender': 2, 'department': 'Crew', 'job': 'Thanks', 'credit_id': '5703f64f9251415bb90001ce', 'id': 24045}, {'name': 'Fred Raskin', 'gender': 2, 'department': 'Editing', 'job': 'Editor', 'credit_id': '52fe479fc3a368484e0d138b', 'id': 58194}, {'name': 'Martin Kitrosser', 'gender': 2, 'department': 'Directing', 'job': 'Script Supervisor', 'credit_id': '54d88eccc3a3685431004166', 'id': 58809}, {'name': 'Gregory Nicotero', 'gender': 2, 'department': 'Crew', 'job': 'Makeup Effects', 'credit_id': '570d8d71c3a3680a2c0003c1', 'id': 59287}, {'name': 'Luis Bacalov', 'gender': 2, 'department': 'Sound', 'job': 'Music', 'credit_id': '57030efc9251416ca3000940', 'id': 66675}, {'name': 'Reginald Hudlin', 'gender': 2, 'department': 'Production', 'job': 'Producer', 'credit_id': '52fe479fc3a368484e0d12f5', 'id': 68215}, {'name': 'Andrew S. Eisen', 'gender': 0, 'department': 'Crew', 'job': 'Visual Effects Editor', 'credit_id': '54d88c159251415f9c00763d', 'id': 71279}, {'name': 'Andrew S. Eisen', 'gender': 0, 'department': 'Editing', 'job': 'First Assistant Editor', 'credit_id': '54d88dd39251416ba8007163', 'id': 71279}, {'name': 'Lady Gaga', 'gender': 1, 'department': 'Crew', 'job': 'Thanks', 'credit_id': '5703f6429251415bb90001c5', 'id': 237405}, {'name': 'Branden Spencer', 'gender': 0, 'department': 'Sound', 'job': 'Sound Effects Editor', 'credit_id': '54d88b5cc3a3681f5a000755', 'id': 548443}, {'name': 'Ian Kincaid', 'gender': 0, 'department': 'Lighting', 'job': 'Gaffer', 'credit_id': '54d88ce7c3a3683ba00083dc', 'id': 589970}, {'name': 'Dror Mohar', 'gender': 0, 'department': 'Sound', 'job': 'Sound Effects Editor', 'credit_id': '54d88b479251413cd00005bd', 'id': 930016}, {'name': 'Shannon McIntosh', 'gender': 1, 'department': 'Production', 'job': 'Executive Producer', 'credit_id': '52fe479fc3a368484e0d137f', 'id': 963669}, {'name': 'Mara LePere-Schloop', 'gender': 0, 'department': 'Art', 'job': 'Art Direction', 'credit_id': '52fe479fc3a368484e0d13a9', 'id': 966594}, {'name': 'Larry McConkey', 'gender': 0, 'department': 'Camera', 'job': 'Steadicam Operator', 'credit_id': '54d88d1ec3a3683b8c007d23', 'id': 983118}, {'name': 'Pilar Savone', 'gender': 1, 'department': 'Production', 'job': 'Producer', 'credit_id': '52fe479fc3a368484e0d12fb', 'id': 1003189}, {'name': 'Gary A. Hecker', 'gender': 2, 'department': 'Sound', 'job': 'Foley', 'credit_id': '54d88ab0c3a3683b9900724c', 'id': 1077782}, {'name': 'Gino Crognale', 'gender': 0, 'department': 'Crew', 'job': 'Makeup Effects', 'credit_id': '54d881b79251416b93007550', 'id': 1130027}, {'name': \"\"Greg D'Auria\"\", 'gender': 0, 'department': 'Editing', 'job': 'First Assistant Editor', 'credit_id': '54d88dec9251415f9c00765e', 'id': 1204243}, {'name': 'Jake Garber', 'gender': 0, 'department': 'Crew', 'job': 'Makeup Effects', 'credit_id': '54d881d09251417160007b5d', 'id': 1206190}, {'name': 'Elaine Ramires', 'gender': 0, 'department': 'Costume & Make-Up', 'job': 'Costume Supervisor', 'credit_id': '54d88d94925141424100055b', 'id': 1328407}, {'name': 'Gary Marullo', 'gender': 0, 'department': 'Sound', 'job': 'Foley', 'credit_id': '54d88a98c3a3681f5a000743', 'id': 1340739}, {'name': 'Mandi Dillin', 'gender': 0, 'department': 'Production', 'job': 'Location Manager', 'credit_id': '54d88f049251413cd00006b3', 'id': 1345627}, {'name': 'Michael Hertlein', 'gender': 0, 'department': 'Editing', 'job': 'Dialogue Editor', 'credit_id': '54d88aeec3a36854310040b6', 'id': 1352966}, {'name': 'Wylie Stateman', 'gender': 0, 'department': 'Sound', 'job': 'Supervising Sound Editor', 'credit_id': '54d88b20c3a3683b9200807b', 'id': 1352969}, {'name': 'Russell R. Anderson', 'gender': 0, 'department': 'Art', 'job': 'Leadman', 'credit_id': '54d882a99251416ba8007064', 'id': 1355526}, {'name': 'Cuitlahuac Morales Velazquez', 'gender': 0, 'department': 'Art', 'job': 'Sculptor', 'credit_id': '54d882d5c3a3683b8f007c55', 'id': 1355530}, {'name': 'Lauri Mills', 'gender': 0, 'department': 'Crew', 'job': 'Studio Teachers', 'credit_id': '54d88eb2c3a3683ba000848e', 'id': 1367510}, {'name': 'Andrew Cooper', 'gender': 0, 'department': 'Camera', 'job': 'Still Photographer', 'credit_id': '54d88d4e92514154a100059f', 'id': 1386920}, {'name': 'John C. Stuver', 'gender': 2, 'department': 'Editing', 'job': 'Dialogue Editor', 'credit_id': '54d88b0192514154a1000575', 'id': 1387183}, {'name': 'Heba Thorisdottir', 'gender': 0, 'department': 'Costume & Make-Up', 'job': 'Makeup Department Head', 'credit_id': '54d880e292514154a100048b', 'id': 1389609}, {'name': 'Hope M. Parrish', 'gender': 0, 'department': 'Crew', 'job': 'Property Master', 'credit_id': '54d8824ec3a3683b8f007c48', 'id': 1390522}, {'name': 'Molly Allen', 'gender': 0, 'department': 'Production', 'job': 'Production Supervisor', 'credit_id': '57030c88c3a36806d900099b', 'id': 1392615}, {'name': 'Robb Boyd', 'gender': 0, 'department': 'Sound', 'job': 'Music Editor', 'credit_id': '54d88e03c3a3683b9900729a', 'id': 1393405}, {'name': 'Michael Minkler', 'gender': 2, 'department': 'Sound', 'job': 'Sound Re-Recording Mixer', 'credit_id': '54d88bc4c3a3683b92008089', 'id': 1399141}, {'name': 'Tina Anderson', 'gender': 1, 'department': 'Crew', 'job': 'Post Production Supervisor', 'credit_id': '57030d47c3a36806d6000914', 'id': 1400529}, {'name': 'Molly Mikula', 'gender': 0, 'department': 'Art', 'job': 'Set Designer', 'credit_id': '54d882ee9251415f9c007555', 'id': 1403392}, {'name': 'Victoria Wood', 'gender': 0, 'department': 'Costume & Make-Up', 'job': 'Wigmaker', 'credit_id': '54d8819a9251413cd000045c', 'id': 1407721}, {'name': 'Deidra Dixon', 'gender': 0, 'department': 'Costume & Make-Up', 'job': 'Hairstylist', 'credit_id': '54d8809ec3a3683b890078d2', 'id': 1412189}, {'name': 'Marc A. Hammer', 'gender': 0, 'department': 'Production', 'job': 'Production Supervisor', 'credit_id': '57030d9b9251416cad000884', 'id': 1415342}, {'name': 'Will Casey', 'gender': 0, 'department': 'Crew', 'job': 'Unit Publicist', 'credit_id': '54d88eed9251416ba8007188', 'id': 1415650}, {'name': 'Michael D. Wilhoit', 'gender': 0, 'department': 'Sound', 'job': 'Sound Effects Editor', 'credit_id': '54d88b76c3a3683b9900725a', 'id': 1417972}, {'name': 'Tysuela Hill-Scott', 'gender': 0, 'department': 'Costume & Make-Up', 'job': 'Makeup Artist', 'credit_id': '54d880f89251416b93007534', 'id': 1420146}, {'name': 'Ren\\\\u00e9e Tondelli', 'gender': 0, 'department': 'Sound', 'job': 'ADR & Dubbing', 'credit_id': '54d88a7b9251416b93007612', 'id': 1420154}, {'name': 'A. Welch Lambeth', 'gender': 0, 'department': 'Crew', 'job': 'Transportation Coordinator', 'credit_id': '54d88e489251416ba800716a', 'id': 1421255}, {'name': 'Steve Duncan', 'gender': 0, 'department': 'Crew', 'job': 'Transportation Coordinator', 'credit_id': '54d88e30c3a3685431004157', 'id': 1422073}, {'name': 'Sian Grigg', 'gender': 0, 'department': 'Costume & Make-Up', 'job': 'Makeup Artist', 'credit_id': '54d8814dc3a3683ba0008211', 'id': 1422795}, {'name': 'Camille Friend', 'gender': 1, 'department': 'Costume & Make-Up', 'job': 'Hairstylist', 'credit_id': '54d88083c3a3685431003fe0', 'id': 1424894}, {'name': 'Caleb Guillotte', 'gender': 0, 'department': 'Art', 'job': 'Art Department Coordinator', 'credit_id': '54d882089251411a80000780', 'id': 1424896}, {'name': 'Lauren Abiouness', 'gender': 0, 'department': 'Art', 'job': 'Assistant Art Director', 'credit_id': '54d8822cc3a3683b8c007c05', 'id': 1424897}, {'name': 'Brian Walker', 'gender': 0, 'department': 'Art', 'job': 'Construction Coordinator', 'credit_id': '54d88275c3a3683b92007fb3', 'id': 1424898}, {'name': 'Julie Stark', 'gender': 0, 'department': 'Crew', 'job': 'Sequence Supervisor', 'credit_id': '54d88cbac3a3683b8f007d48', 'id': 1424907}, {'name': 'Joseph Guerino', 'gender': 0, 'department': 'Lighting', 'job': 'Rigging Gaffer', 'credit_id': '54d88d399251416b9300763d', 'id': 1424908}, {'name': 'Kei Rowan-Young', 'gender': 0, 'department': 'Production', 'job': 'Location Manager', 'credit_id': '54d88f58c3a3683b890079f4', 'id': 1424911}, {'name': 'Bruce Del Castillo', 'gender': 0, 'department': 'Camera', 'job': 'Grip', 'credit_id': '570fca90c3a3685370003808', 'id': 1485553}, {'name': 'Mark Amos', 'gender': 2, 'department': 'Production', 'job': 'Production Accountant', 'credit_id': '5703e99ac3a36861f3000027', 'id': 1516962}, {'name': 'Craig Branham', 'gender': 0, 'department': 'Crew', 'job': 'Stunts', 'credit_id': '56195fb49251416ca80001fb', 'id': 1521185}, {'name': 'Yvan Lucas', 'gender': 0, 'department': 'Editing', 'job': 'Digital Intermediate', 'credit_id': '575ee4dd9251415a2f000073', 'id': 1542917}, {'name': 'Mary Ramos', 'gender': 0, 'department': 'Sound', 'job': 'Music Supervisor', 'credit_id': '57030f43c3a36806d9000a3e', 'id': 1545448}, {'name': 'Mark Ulano', 'gender': 0, 'department': 'Sound', 'job': 'Production Sound Mixer', 'credit_id': '599d6d3ac3a368282c01a403', 'id': 1547309}, {'name': 'Cindy Mah', 'gender': 0, 'department': 'Art', 'job': 'Other', 'credit_id': '5703f345c3a368698500015f', 'id': 1589685}, {'name': 'William Paul Clark', 'gender': 2, 'department': 'Production', 'job': 'Associate Producer', 'credit_id': '5702a029c3a3685686003153', 'id': 1599143}, {'name': 'William Paul Clark', 'gender': 2, 'department': 'Directing', 'job': 'Assistant Director', 'credit_id': '5702a03792514151b8001580', 'id': 1599143}]\",Quentin Tarantino\n",
            "Line 188: 288,100000000,Drama Animation Family,,10545,paris based on novel judge obsession dance,en,The Hunchback of Notre Dame,\"When Quasi defies the evil Frollo and ventures out to the Festival of Fools, the cruel crowd jeers him. Rescued by fellow outcast the gypsy Esmeralda, Quasi soon finds himself battling to save the people and the city he loves.\",46.727940999999994,\"[{\"\"name\"\": \"\"Walt Disney Pictures\"\", \"\"id\"\": 2}]\",\"[{\"\"iso_3166_1\"\": \"\"US\"\", \"\"name\"\": \"\"United States of America\"\"}]\",1996-06-21,100138851,91.0,\"[{\"\"iso_639_1\"\": \"\"la\"\", \"\"name\"\": \"\"Latin\"\"}, {\"\"iso_639_1\"\": \"\"en\"\", \"\"name\"\": \"\"English\"\"}]\",Released,,The Hunchback of Notre Dame,6.8,1129,Tom Hulce Demi Moore Tony Jay Kevin Kline Paul Kandel,\"[{'name': 'Ruth Lambert', 'gender': 1, 'department': 'Production', 'job': 'Casting', 'credit_id': '57506dfa9251413080000044', 'id': 7902}, {'name': 'Jonathan Roberts', 'gender': 2, 'department': 'Writing', 'job': 'Screenplay', 'credit_id': '52fe43859251416c75013933', 'id': 7933}, {'name': 'Alan Menken', 'gender': 2, 'department': 'Sound', 'job': 'Original Music Composer', 'credit_id': '52fe43859251416c7501394b', 'id': 15813}, {'name': 'Alan Menken', 'gender': 2, 'department': 'Sound', 'job': 'Songs', 'credit_id': '5913504d9251414ead05520d', 'id': 15813}, {'name': 'Don Hahn', 'gender': 2, 'department': 'Production', 'job': 'Producer', 'credit_id': '52fe43859251416c75013945', 'id': 12824}, {'name': 'Lon Bender', 'gender': 0, 'department': 'Sound', 'job': 'Supervising Sound Editor', 'credit_id': '57506fb8c3a368105b000096', 'id': 16736}, {'name': 'Victor Hugo', 'gender': 2, 'department': 'Writing', 'job': 'Novel', 'credit_id': '52fe43859251416c75013921', 'id': 37127}, {'name': 'Stephen Schwartz', 'gender': 2, 'department': 'Sound', 'job': 'Songs', 'credit_id': '57506aa69251413337001e06', 'id': 42910}, {'name': 'Irene Mecchi', 'gender': 1, 'department': 'Writing', 'job': 'Screenplay', 'credit_id': '52fe43859251416c75013927', 'id': 56041}, {'name': 'Roy Conli', 'gender': 0, 'department': 'Production', 'job': 'Co-Producer', 'credit_id': '57506adb925141307f000d98', 'id': 56612}, {'name': 'Tab Murphy', 'gender': 2, 'department': 'Writing', 'job': 'Screenplay', 'credit_id': '52fe43859251416c7501392d', 'id': 61950}, {'name': 'Tab Murphy', 'gender': 2, 'department': 'Writing', 'job': 'Story', 'credit_id': '575069d6c3a3681f8e00169a', 'id': 61950}, {'name': 'Gary Trousdale', 'gender': 2, 'department': 'Directing', 'job': 'Director', 'credit_id': '52fe43859251416c75013915', 'id': 62047}, {'name': 'Kirk Wise', 'gender': 2, 'department': 'Directing', 'job': 'Director', 'credit_id': '52fe43859251416c7501391b', 'id': 62048}, {'name': 'Bob Tzudiker', 'gender': 2, 'department': 'Writing', 'job': 'Screenplay', 'credit_id': '52fe43859251416c75013939', 'id': 65599}, {'name': 'Noni White', 'gender': 0, 'department': 'Writing', 'job': 'Screenplay', 'credit_id': '52fe43859251416c7501393f', 'id': 65600}, {'name': 'Ellen Keneshea', 'gender': 1, 'department': 'Editing', 'job': 'Editor', 'credit_id': '52fe43859251416c75013951', 'id': 65601}, {'name': 'Chris Montan', 'gender': 0, 'department': 'Crew', 'job': 'Executive Music Producer', 'credit_id': '57506c17925141308d00000e', 'id': 953331}, {'name': 'Dave Kupczyk', 'gender': 0, 'department': 'Visual Effects', 'job': 'Animation', 'credit_id': '555248ae92514171750023e1', 'id': 1113194}, {'name': 'Larry Kemp', 'gender': 0, 'department': 'Sound', 'job': 'Supervising Sound Editor', 'credit_id': '57506fa79251413076000067', 'id': 1392084}, {'name': 'Mark Green', 'gender': 0, 'department': 'Sound', 'job': 'Music Editor', 'credit_id': '57506f17925141308900007c', 'id': 1397666}, {'name': 'Richard Dwan Jr.', 'gender': 2, 'department': 'Editing', 'job': 'Dialogue Editor', 'credit_id': '5750723ac3a368105b0000eb', 'id': 1403636}, {'name': 'Darlie Brewster', 'gender': 0, 'department': 'Visual Effects', 'job': 'Animation', 'credit_id': '5518bdab9251415918000c83', 'id': 1447298}, {'name': 'Trevor Tamboline', 'gender': 0, 'department': 'Visual Effects', 'job': 'Animation', 'credit_id': '5518c3efc3a3684b6b000fbf', 'id': 1447301}, {'name': 'Rick Maki', 'gender': 0, 'department': 'Visual Effects', 'job': 'Visual Development', 'credit_id': '554aa70f92514146a200029d', 'id': 1447357}, {'name': 'Jennifer Yuan', 'gender': 0, 'department': 'Directing', 'job': 'Layout', 'credit_id': '551f99d89251415c7a0011df', 'id': 1447436}, {'name': 'Roberto Casale', 'gender': 0, 'department': 'Visual Effects', 'job': 'Animation', 'credit_id': '55524de2c3a3687f6300a382', 'id': 1447459}, {'name': 'Peter J. Deluca', 'gender': 0, 'department': 'Directing', 'job': 'Layout', 'credit_id': '554aa106c3a3685e5b000220', 'id': 1447587}, {'name': 'James P. Alles', 'gender': 0, 'department': 'Directing', 'job': 'Layout', 'credit_id': '55466dcc925141188900030d', 'id': 1447590}, {'name': 'James Baxter', 'gender': 0, 'department': 'Visual Effects', 'job': 'Animation Supervisor', 'credit_id': '55257ec0925141118a00042e', 'id': 1450331}, {'name': 'Larry White', 'gender': 0, 'department': 'Visual Effects', 'job': 'Animation', 'credit_id': '5531534ec3a3682226000595', 'id': 1455541}, {'name': 'Dan M. Rich', 'gender': 0, 'department': 'Editing', 'job': 'Dialogue Editor', 'credit_id': '57506fdec3a368104a00008e', 'id': 1536361}, {'name': 'David Goetz', 'gender': 2, 'department': 'Art', 'job': 'Art Direction', 'credit_id': '57506b50c3a3681f3f0016b0', 'id': 1552863}, {'name': 'Patsy Bouge', 'gender': 0, 'department': 'Crew', 'job': 'Post Production Supervisor', 'credit_id': '57506f58925141307c000071', 'id': 1629419}, {'name': 'Phil Lofaro', 'gender': 2, 'department': 'Production', 'job': 'Associate Producer', 'credit_id': '57506b0c92514135ed001d54', 'id': 1629867}]\",Gary Trousdale\n",
            "Line 189: 289,100000000,Adventure Animation Comedy Family Fantasy,,11688,central and south america birthday emperor palace kingdom,en,The Emperor's New Groove,\"Kuzco is a self-centered emperor who summons Pacha from a village and to tell him that his home will be destroyed to make room for Kuzco's new summer home. Kuzco's advisor, Yzma, tries to poison Kuzco and accidentally turns him into a llama, who accidentally ends up in Pacha's village. Pacha offers to help Kuzco if he doesn't destroy his house, and so they form an unlikely partnership.\",51.113717,\"[{\"\"name\"\": \"\"Walt Disney Pictures\"\", \"\"id\"\": 2}, {\"\"name\"\": \"\"Walt Disney Feature Animation\"\", \"\"id\"\": 10217}]\",\"[{\"\"iso_3166_1\"\": \"\"US\"\", \"\"name\"\": \"\"United States of America\"\"}]\",2000-12-09,169327687,78.0,\"[{\"\"iso_639_1\"\": \"\"en\"\", \"\"name\"\": \"\"English\"\"}]\",Released,It's All About.....ME!,The Emperor's New Groove,7.2,1490,David Spade John Goodman Eartha Kitt Patrick Warburton Wendie Malick,\"[{'name': 'David Reynolds', 'gender': 2, 'department': 'Writing', 'job': 'Screenplay', 'credit_id': '52fe44799251416c7503609f', 'id': 11}, {'name': 'John Debney', 'gender': 2, 'department': 'Sound', 'job': 'Original Music Composer', 'credit_id': '591340dbc3a3686519051a3e', 'id': 4500}, {'name': 'Ruth Lambert', 'gender': 1, 'department': 'Production', 'job': 'Casting', 'credit_id': '591342179251414eca054ecb', 'id': 7902}, {'name': 'Mary Hidalgo', 'gender': 1, 'department': 'Production', 'job': 'Casting', 'credit_id': '55685d0ac3a3681c7e002069', 'id': 7903}, {'name': 'Roger Allers', 'gender': 2, 'department': 'Writing', 'job': 'Original Story', 'credit_id': '595bb27e9251410b86058d2f', 'id': 15812}, {'name': 'Don Hahn', 'gender': 2, 'department': 'Production', 'job': 'Executive Producer', 'credit_id': '52fe44799251416c750360ab', 'id': 12824}, {'name': 'Tim Chau', 'gender': 2, 'department': 'Sound', 'job': 'Sound Designer', 'credit_id': '59134231c3a36864a705625a', 'id': 21103}, {'name': 'Tom Finan', 'gender': 2, 'department': 'Editing', 'job': 'Editor', 'credit_id': '52fe44799251416c750360c3', 'id': 51701}, {'name': 'Paul Brizzi', 'gender': 0, 'department': 'Visual Effects', 'job': 'Visual Development', 'credit_id': '55346f3f925141675e000f61', 'id': 56147}, {'name': 'Mark Dindal', 'gender': 2, 'department': 'Directing', 'job': 'Director', 'credit_id': '52fe44799251416c7503608d', 'id': 61411}, {'name': 'Mark Dindal', 'gender': 2, 'department': 'Writing', 'job': 'Story', 'credit_id': '591343b59251414e89059adb', 'id': 61411}, {'name': 'Matthew Jon Beck', 'gender': 2, 'department': 'Production', 'job': 'Casting', 'credit_id': '59134220c3a36864fc0571c6', 'id': 61419}, {'name': 'Randy Fullmer', 'gender': 2, 'department': 'Production', 'job': 'Producer', 'credit_id': '52fe44799251416c750360a5', 'id': 61417}, {'name': 'Chris Williams', 'gender': 2, 'department': 'Writing', 'job': 'Story', 'credit_id': '591343d89251414e8005858c', 'id': 70238}, {'name': 'Paul A. Felix', 'gender': 0, 'department': 'Art', 'job': 'Production Design', 'credit_id': '591341d6c3a36864fc057165', 'id': 70240}, {'name': 'Pam Ziegenhagen', 'gender': 1, 'department': 'Editing', 'job': 'Editor', 'credit_id': '591341429251414e8905974d', 'id': 71855}, {'name': 'Mel Metcalfe', 'gender': 0, 'department': 'Sound', 'job': 'Sound Re-Recording Mixer', 'credit_id': '5913424ec3a368646b05d26b', 'id': 74976}, {'name': 'Terry Porter', 'gender': 0, 'department': 'Sound', 'job': 'Sound Re-Recording Mixer', 'credit_id': '59134259c3a36864c60579dc', 'id': 74978}, {'name': 'Dean A. Zupancic', 'gender': 2, 'department': 'Sound', 'job': 'Sound Re-Recording Mixer', 'credit_id': '59134244c3a36864a7056278', 'id': 83091}, {'name': 'Colin Stimpson', 'gender': 0, 'department': 'Art', 'job': 'Art Direction', 'credit_id': '59134cf7c3a368650a055d6d', 'id': 986240}, {'name': 'Tim Allen', 'gender': 2, 'department': 'Visual Effects', 'job': 'Animation', 'credit_id': '5518e900c3a3682aa80002b8', 'id': 1447370}, {'name': 'Thomas Baker', 'gender': 0, 'department': 'Camera', 'job': 'Director of Photography', 'credit_id': '591341b99251414e9205849f', 'id': 1452489}, {'name': 'James Baker', 'gender': 0, 'department': 'Visual Effects', 'job': 'Animation', 'credit_id': '553b2aba92514138a9005cf6', 'id': 1457930}, {'name': 'Paul Carrera', 'gender': 0, 'department': 'Editing', 'job': 'First Assistant Editor', 'credit_id': '5548e314c3a36878820023fb', 'id': 1460431}, {'name': 'Thomas Cardone', 'gender': 0, 'department': 'Art', 'job': 'Co-Art Director', 'credit_id': '59134d039251414eca055b15', 'id': 1713397}, {'name': 'Charles Paley', 'gender': 0, 'department': 'Sound', 'job': 'Music Editor', 'credit_id': '5913427f9251414e8905994a', 'id': 1813303}, {'name': 'Paul Silver', 'gender': 2, 'department': 'Sound', 'job': 'Music Editor', 'credit_id': '59134304c3a3686519051d43', 'id': 1814098}]\",Mark Dindal\n",
            "Line 190: 290,100000000,Action Adventure Thriller,http://theexpendables2film.com/,76163,airplane number in title airplane crash violence beard,en,The Expendables 2,\"Mr. Church reunites the Expendables for what should be an easy paycheck, but when one of their men is murdered on the job, their quest for revenge puts them deep in enemy territory and up against an unexpected threat.\",53.73289200000001,\"[{\"\"name\"\": \"\"Nu Image Films\"\", \"\"id\"\": 925}, {\"\"name\"\": \"\"Millennium Films\"\", \"\"id\"\": 10254}]\",\"[{\"\"iso_3166_1\"\": \"\"US\"\", \"\"name\"\": \"\"United States of America\"\"}]\",2012-08-08,312573423,103.0,\"[{\"\"iso_639_1\"\": \"\"en\"\", \"\"name\"\": \"\"English\"\"}]\",Released,Back for War.,The Expendables 2,6.1,2896,Sylvester Stallone Jason Statham Dolph Lundgren Bruce Willis Arnold Schwarzenegger,\"[{'name': 'Shelly Johnson', 'gender': 2, 'department': 'Camera', 'job': 'Director of Photography', 'credit_id': '52fe492ac3a368484e11d7b9', 'id': 4950}, {'name': 'Keith Pain', 'gender': 2, 'department': 'Art', 'job': 'Art Direction', 'credit_id': '54ff09e19251410e510017ea', 'id': 8646}, {'name': 'Ellen Heuer', 'gender': 0, 'department': 'Sound', 'job': 'Foley', 'credit_id': '54ff0f4cc3a36810a10017c9', 'id': 9441}, {'name': 'Mark Peterson', 'gender': 0, 'department': 'Costume & Make-Up', 'job': 'Costume Supervisor', 'credit_id': '54ff15c49251410e54001b45', 'id': 9493}, {'name': 'Jason Constantine', 'gender': 2, 'department': 'Production', 'job': 'Executive Producer', 'credit_id': '52fe492ac3a368484e11d7cb', 'id': 51032}, {'name': 'Harvey Harrison', 'gender': 2, 'department': 'Crew', 'job': 'Second Unit Cinematographer', 'credit_id': '54ff14229251410e54001b11', 'id': 40747}, {'name': 'Simon West', 'gender': 2, 'department': 'Directing', 'job': 'Director', 'credit_id': '52fe4929c3a368484e11d751', 'id': 12786}, {'name': 'Sylvester Stallone', 'gender': 2, 'department': 'Writing', 'job': 'Screenplay', 'credit_id': '52fe492ac3a368484e11d7a7', 'id': 16483}, {'name': 'Kevin King Templeton', 'gender': 0, 'department': 'Production', 'job': 'Producer', 'credit_id': '52fe492ac3a368484e11d7fb', 'id': 16486}, {'name': 'Boaz Davidson', 'gender': 2, 'department': 'Production', 'job': 'Executive Producer', 'credit_id': '52fe492ac3a368484e11d7d1', 'id': 16830}, {'name': 'Les Weldon', 'gender': 2, 'department': 'Production', 'job': 'Producer', 'credit_id': '52fe492ac3a368484e11d807', 'id': 17207}, {'name': 'Danny Lerner', 'gender': 2, 'department': 'Production', 'job': 'Producer', 'credit_id': '52fe492ac3a368484e11d7ef', 'id': 17208}, {'name': 'Avi Lerner', 'gender': 2, 'department': 'Production', 'job': 'Producer', 'credit_id': '52fe492ac3a368484e11d7e9', 'id': 17209}, {'name': 'Richard Wenk', 'gender': 2, 'department': 'Writing', 'job': 'Screenplay', 'credit_id': '52fe492ac3a368484e11d7a1', 'id': 22814}, {'name': 'Richard Wenk', 'gender': 2, 'department': 'Writing', 'job': 'Story', 'credit_id': '52fe492ac3a368484e11d79b', 'id': 22814}, {'name': 'John Thompson', 'gender': 2, 'department': 'Production', 'job': 'Producer', 'credit_id': '52fe492ac3a368484e11d801', 'id': 22815}, {'name': 'Steven Ramirez', 'gender': 2, 'department': 'Crew', 'job': 'Visual Effects Editor', 'credit_id': '54ff11d49251410e4b001a32', 'id': 29380}, {'name': 'Ken Kaufman', 'gender': 2, 'department': 'Writing', 'job': 'Story', 'credit_id': '52fe492ac3a368484e11d7ad', 'id': 44064}, {'name': 'Trevor Short', 'gender': 2, 'department': 'Production', 'job': 'Executive Producer', 'credit_id': '52fe492ac3a368484e11d7f5', 'id': 45829}, {'name': 'Danny Dimbort', 'gender': 2, 'department': 'Production', 'job': 'Executive Producer', 'credit_id': '52fe492ac3a368484e11d7d7', 'id': 45830}, {'name': 'Guymon Casady', 'gender': 2, 'department': 'Production', 'job': 'Executive Producer', 'credit_id': '52fe492ac3a368484e11d7c5', 'id': 53758}, {'name': 'Paul Cross', 'gender': 2, 'department': 'Art', 'job': 'Production Design', 'credit_id': '54ff09a39251416fb5000497', 'id': 59372}, {'name': 'Steve R. Moore', 'gender': 2, 'department': 'Crew', 'job': 'Visual Effects Editor', 'credit_id': '54ff1196c3a368150c0018a9', 'id': 58188}, {'name': 'Basil Iwanyk', 'gender': 2, 'department': 'Production', 'job': 'Executive Producer', 'credit_id': '52fe492ac3a368484e11d7e3', 'id': 67759}, {'name': 'Lorenzo Senatore', 'gender': 2, 'department': 'Camera', 'job': 'Steadicam Operator', 'credit_id': '54ff15069251410e56001aad', 'id': 61851}, {'name': 'Marianne Stanicheva', 'gender': 1, 'department': 'Production', 'job': 'Casting', 'credit_id': '5322e3649251411f770048a0', 'id': 61860}, {'name': 'Emil Topuzov', 'gender': 2, 'department': 'Camera', 'job': 'Camera Operator', 'credit_id': '54ff14b992514177f20016be', 'id': 67238}, {'name': 'Sonya Savova', 'gender': 0, 'department': 'Art', 'job': 'Art Direction', 'credit_id': '54ff0a0f9251410e560019a6', 'id': 67242}, {'name': 'Todd E. Miller', 'gender': 2, 'department': 'Editing', 'job': 'Editor', 'credit_id': '52fe492ac3a368484e11d7bf', 'id': 67560}, {'name': 'Jon Feltheimer', 'gender': 0, 'department': 'Production', 'job': 'Executive Producer', 'credit_id': '52fe492ac3a368484e11d7dd', 'id': 67975}, {'name': 'Ina Damianova', 'gender': 1, 'department': 'Costume & Make-Up', 'job': 'Costume Supervisor', 'credit_id': '54ff15ae92514178930016a8', 'id': 85515}, {'name': 'Chris David', 'gender': 0, 'department': 'Sound', 'job': 'Sound Re-Recording Mixer', 'credit_id': '54ff0f68c3a36810a10017cc', 'id': 137125}, {'name': 'Scott Coulter', 'gender': 2, 'department': 'Visual Effects', 'job': 'Visual Effects Producer', 'credit_id': '54ff115cc3a3681093001a05', 'id': 138657}, {'name': 'Anton Bakarski', 'gender': 0, 'department': 'Camera', 'job': 'Camera Operator', 'credit_id': '54ff13f2c3a368109800196a', 'id': 226464}, {'name': 'Lizz Wolf', 'gender': 0, 'department': 'Costume & Make-Up', 'job': 'Costume Design', 'credit_id': '5322e38d9251411f8f004755', 'id': 963705}, {'name': 'Ivan Ranghelov', 'gender': 2, 'department': 'Art', 'job': 'Art Direction', 'credit_id': '54ff09f59251410e560019a2', 'id': 1015623}, {'name': 'Ross W. Clarkson', 'gender': 0, 'department': 'Camera', 'job': 'Steadicam Operator', 'credit_id': '54ff1529c3a368150c00190f', 'id': 1069627}, {'name': 'Christopher Eakins', 'gender': 0, 'department': 'Editing', 'job': 'Dialogue Editor', 'credit_id': '54ff0eae9251410e5a001922', 'id': 1077381}, {'name': 'David Agosto', 'gender': 0, 'department': 'Writing', 'job': 'Story', 'credit_id': '52fe492ac3a368484e11d7b3', 'id': 1083163}, {'name': 'Attila Szalay', 'gender': 0, 'department': 'Crew', 'job': 'Second Unit Cinematographer', 'credit_id': '54ff14a09251410e54001b25', 'id': 1126734}, {'name': 'Orlin Ruevski', 'gender': 0, 'department': 'Camera', 'job': 'Camera Operator', 'credit_id': '54ff147f9251410e4b001a74', 'id': 1191653}, {'name': 'Bob Corff', 'gender': 2, 'department': 'Crew', 'job': 'Dialect Coach', 'credit_id': '54ff1732c3a3681093001ace', 'id': 1210734}, {'name': 'Scott Eddo', 'gender': 2, 'department': 'Costume & Make-Up', 'job': 'Makeup Department Head', 'credit_id': '54ff0b0e9251410e4b001984', 'id': 1316296}, {'name': 'Valentina Mladenova', 'gender': 0, 'department': 'Art', 'job': 'Set Decoration', 'credit_id': '54ff0a4692514177f20015ae', 'id': 1318091}, {'name': 'Adam A. Makin', 'gender': 0, 'department': 'Art', 'job': 'Supervising Art Director', 'credit_id': '570bbf2392514111f200312b', 'id': 1324818}, {'name': 'Yana Stoyanova', 'gender': 1, 'department': 'Costume & Make-Up', 'job': 'Makeup Artist', 'credit_id': '54ff0b2a9251410e5a0018a5', 'id': 1327184}, {'name': 'Jasmina Vasileva', 'gender': 0, 'department': 'Costume & Make-Up', 'job': 'Set Costumer', 'credit_id': '54ff16459251410e56001aca', 'id': 1337666}, {'name': 'Yossif Mladenov', 'gender': 0, 'department': 'Art', 'job': 'Set Designer', 'credit_id': '54ff0e23c3a36810930019bb', 'id': 1337667}, {'name': 'Joe Lisanti', 'gender': 0, 'department': 'Sound', 'job': 'Music Editor', 'credit_id': '54ff16d89251410e5100193a', 'id': 1345268}, {'name': 'Orlin Grozdanov', 'gender': 0, 'department': 'Art', 'job': 'Greensman', 'credit_id': '54ff0ce392514177f2001603', 'id': 1350232}, {'name': 'Anna Hadzhieva', 'gender': 0, 'department': 'Art', 'job': 'Art Department Coordinator', 'credit_id': '54ff0be99251410e54001a1b', 'id': 1350233}, {'name': 'Dian Hristov', 'gender': 2, 'department': 'Crew', 'job': 'Stunt Coordinator', 'credit_id': '54ff13ad9251410e54001afb', 'id': 1350254}, {'name': 'Anna Gelinova', 'gender': 0, 'department': 'Costume & Make-Up', 'job': 'Costume Supervisor', 'credit_id': '54ff15dec3a368155f00193a', 'id': 1350256}, {'name': 'Asen Karanikolov', 'gender': 0, 'department': 'Costume & Make-Up', 'job': 'Set Costumer', 'credit_id': '54ff16179251416fb50005ad', 'id': 1350257}, {'name': 'Denitza Daverova', 'gender': 0, 'department': 'Production', 'job': 'Location Manager', 'credit_id': '54ff17e7c3a3681093001adb', 'id': 1350260}, {'name': 'Shelly Stoyanova', 'gender': 1, 'department': 'Directing', 'job': 'Script Supervisor', 'credit_id': '54ff17a19251410e54001b6b', 'id': 1350261}, {'name': 'Danail Hadzhiyski', 'gender': 0, 'department': 'Visual Effects', 'job': 'Visual Effects Supervisor', 'credit_id': '54ff13139251416fb500056e', 'id': 1355964}, {'name': 'Alexander Krumov', 'gender': 2, 'department': 'Camera', 'job': 'Camera Operator', 'credit_id': '54ff14439251410e510018fc', 'id': 1363344}, {'name': 'Alexei Karagyaur', 'gender': 0, 'department': 'Art', 'job': 'Art Direction', 'credit_id': '54ff09b99251410e4b00195e', 'id': 1368850}, {'name': 'Stefan Manchev', 'gender': 0, 'department': 'Art', 'job': 'Set Designer', 'credit_id': '54ff0e3c9251410e54001a6f', 'id': 1368858}, {'name': 'Dirk Buchmann', 'gender': 0, 'department': 'Crew', 'job': 'Property Master', 'credit_id': '54ff0c319251410e560019ec', 'id': 1368862}, {'name': 'Kalin Nikolov', 'gender': 0, 'department': 'Crew', 'job': 'Transportation Coordinator', 'credit_id': '54ff170e9251410e54001b62', 'id': 1368886}, {'name': 'Bruce Lomet', 'gender': 0, 'department': 'Editing', 'job': 'Digital Intermediate', 'credit_id': '54ff169892514177f20016f1', 'id': 1377137}, {'name': 'Frank Masi', 'gender': 0, 'department': 'Camera', 'job': 'Still Photographer', 'credit_id': '54ff15509251410e51001913', 'id': 1378240}, {'name': 'Yulian Svilenov', 'gender': 0, 'department': 'Art', 'job': 'Greensman', 'credit_id': '54ff0d2892514177f2001608', 'id': 1379427}, {'name': 'Gabriel J. Serrano', 'gender': 0, 'department': 'Sound', 'job': 'Sound Re-Recording Mixer', 'credit_id': '54ff0f829251410e4b0019ff', 'id': 1396794}, {'name': 'Tim Limer', 'gender': 0, 'department': 'Crew', 'job': 'Sound Recordist', 'credit_id': '54ff0ef2c3a3681098001905', 'id': 1396796}, {'name': 'Ajoy Mani', 'gender': 0, 'department': 'Visual Effects', 'job': 'Visual Effects Supervisor', 'credit_id': '54ff12e79251410e5a00199d', 'id': 1396801}, {'name': 'Simeon Asenov', 'gender': 0, 'department': 'Crew', 'job': 'Visual Effects Art Director', 'credit_id': '54ff111f9251410e56001a6d', 'id': 1396811}, {'name': 'Angelina Borisowa', 'gender': 1, 'department': 'Crew', 'job': 'Visual Effects Editor', 'credit_id': '54ff113c9251410e510018c1', 'id': 1402714}, {'name': 'John Marzano', 'gender': 0, 'department': 'Camera', 'job': 'Helicopter Camera', 'credit_id': '54ff15699251416fb500059a', 'id': 1404244}, {'name': 'Nicole Venables', 'gender': 0, 'department': 'Costume & Make-Up', 'job': 'Hairstylist', 'credit_id': '54ff0a9c9251410e5a001885', 'id': 1407339}, {'name': 'Melizah Anguiano', 'gender': 0, 'department': 'Costume & Make-Up', 'job': 'Hairstylist', 'credit_id': '54ff0ab3c3a368109300194d', 'id': 1407340}, {'name': 'Henry Tirl', 'gender': 2, 'department': 'Camera', 'job': 'Steadicam Operator', 'credit_id': '54ff14ee9251417893001698', 'id': 1408357}, {'name': 'Des Whelan', 'gender': 0, 'department': 'Camera', 'job': 'Camera Operator', 'credit_id': '54ff14d1c3a3681093001a94', 'id': 1408358}, {'name': 'Jesse Ehredt', 'gender': 0, 'department': 'Crew', 'job': 'Sound Recordist', 'credit_id': '54ff0eda9251410e54001a7c', 'id': 1409889}, {'name': 'David McGill', 'gender': 2, 'department': 'Camera', 'job': 'Camera Operator', 'credit_id': '54ff1460c3a3681098001983', 'id': 1410107}, {'name': 'Sofi Hvarleva', 'gender': 0, 'department': 'Costume & Make-Up', 'job': 'Makeup Artist', 'credit_id': '54ff0b7492514177f20015cc', 'id': 1412603}, {'name': 'Ivailo Nikolov', 'gender': 0, 'department': 'Art', 'job': 'Art Direction', 'credit_id': '54ff09cec3a368109800186f', 'id': 1412697}, {'name': 'David Esparza', 'gender': 0, 'department': 'Sound', 'job': 'Supervising Sound Effects Editor', 'credit_id': '54ff0f9d92514177f2001639', 'id': 1412699}, {'name': 'Nikolay Pachov', 'gender': 0, 'department': 'Crew', 'job': 'Visual Effects Editor', 'credit_id': '54ff11b1c3a36810a10017f5', 'id': 1412711}, {'name': 'Abhinav Sah', 'gender': 0, 'department': 'Visual Effects', 'job': 'Visual Effects Supervisor', 'credit_id': '54ff12a2c3a3681093001a35', 'id': 1412715}, {'name': 'Hristo Genkov', 'gender': 0, 'department': 'Camera', 'job': 'Camera Operator', 'credit_id': '54ff140dc3a3681098001977', 'id': 1412718}, {'name': 'Aneta Velizar Kounova', 'gender': 0, 'department': 'Costume & Make-Up', 'job': 'Set Costumer', 'credit_id': '54ff162c9251416fb50005af', 'id': 1412720}, {'name': 'Gregg Brilliant', 'gender': 0, 'department': 'Crew', 'job': 'Unit Publicist', 'credit_id': '54ff1802c3a368155f001969', 'id': 1418413}, {'name': 'Pablo Jos\\\\u00e9 Fuertes', 'gender': 0, 'department': 'Visual Effects', 'job': 'Visual Effects Supervisor', 'credit_id': '54ff1334c3a368155f0018fc', 'id': 1426749}, {'name': 'Mark Sahagun', 'gender': 0, 'department': 'Editing', 'job': 'Digital Intermediate', 'credit_id': '54ff16aec3a36810980019bf', 'id': 1427435}, {'name': 'Valentin Valov', 'gender': 0, 'department': 'Costume & Make-Up', 'job': 'Makeup Artist', 'credit_id': '54ff0b60c3a368155f001840', 'id': 1429341}, {'name': 'Alexander Valev', 'gender': 2, 'department': 'Crew', 'job': 'Sequence Supervisor', 'credit_id': '54ff124bc3a368108f001a44', 'id': 1429370}, {'name': 'Michael Applebaum', 'gender': 0, 'department': 'Camera', 'job': 'Camera Operator', 'credit_id': '54ff13d0c3a36815f10017fc', 'id': 1437305}, {'name': 'Pauline Seager', 'gender': 0, 'department': 'Art', 'job': 'Set Decoration', 'credit_id': '54ff0a649251410e5a00187d', 'id': 1437691}, {'name': 'Petya Simeonova', 'gender': 0, 'department': 'Costume & Make-Up', 'job': 'Makeup Artist', 'credit_id': '54ff0b489251410e5a0018ab', 'id': 1437692}, {'name': 'Alexander Kotsev', 'gender': 0, 'department': 'Art', 'job': 'Construction Coordinator', 'credit_id': '54ff0c8c9251410e4b0019b9', 'id': 1437693}, {'name': 'Kiril Dimov', 'gender': 0, 'department': 'Art', 'job': 'Leadman', 'credit_id': '54ff0dd19251410e54001a5e', 'id': 1437697}, {'name': 'Aziz Acar', 'gender': 0, 'department': 'Sound', 'job': 'ADR & Dubbing', 'credit_id': '54ff0e859251410e54001a76', 'id': 1437703}, {'name': 'Kunal Rasal', 'gender': 0, 'department': 'Visual Effects', 'job': 'Visual Effects Producer', 'credit_id': '54ff11f09251416fb5000557', 'id': 1437712}, {'name': 'Sanjot Sonalkar', 'gender': 0, 'department': 'Visual Effects', 'job': 'Visual Effects Producer', 'credit_id': '54ff12139251410e54001adb', 'id': 1437713}, {'name': 'Stefan Tchakarov', 'gender': 0, 'department': 'Visual Effects', 'job': 'Visual Effects Supervisor', 'credit_id': '54ff1267c3a3681093001a2a', 'id': 1437714}, {'name': 'Stalin Saravanan', 'gender': 0, 'department': 'Visual Effects', 'job': 'Visual Effects Supervisor', 'credit_id': '54ff12899251410e5a00197e', 'id': 1437715}, {'name': 'Asim Ahmad', 'gender': 0, 'department': 'Crew', 'job': 'Stunt Coordinator', 'credit_id': '54ff13939251410e5a0019b1', 'id': 1437716}, {'name': 'Patricia Gorman', 'gender': 1, 'department': 'Costume & Make-Up', 'job': 'Set Costumer', 'credit_id': '54ff1602c3a36815f1001827', 'id': 1437717}, {'name': 'Lubomir Evtimov', 'gender': 0, 'department': 'Crew', 'job': 'Transportation Coordinator', 'credit_id': '54ff16f3c3a36815f100184a', 'id': 1437718}, {'name': 'Lori Grabowski', 'gender': 1, 'department': 'Directing', 'job': 'Script Supervisor', 'credit_id': '54ff176092514177f20016fd', 'id': 1437719}, {'name': 'Rebecca Qin Jiang', 'gender': 0, 'department': 'Directing', 'job': 'Script Supervisor', 'credit_id': '54ff1784c3a368155f00195c', 'id': 1437720}, {'name': 'Tzanko Matchukliski', 'gender': 0, 'department': 'Production', 'job': 'Location Manager', 'credit_id': '54ff17cac3a368150c001946', 'id': 1437721}, {'name': 'Dhumal Sagar', 'gender': 0, 'department': 'Crew', 'job': 'Compositors', 'credit_id': '554ec3a3c3a3685ad300007a', 'id': 1460603}]\",Simon West\n",
            "Line 191: 291,100000000,Adventure Action Thriller Mystery,,2059,riddle treasure treasure hunt archaeologist archeology\\u00a0,en,National Treasure,\"Modern treasure hunters, led by archaeologist Ben Gates, search for a chest of riches rumored to have been stashed away by George Washington, Thomas Jefferson and Benjamin Franklin during the Revolutionary War. The chest's whereabouts may lie in secret clues embedded in the Constitution and the Declaration of Independence, and Gates is in a race to find the gold before his enemies do.\",58.849256000000004,\"[{\"\"name\"\": \"\"Walt Disney Pictures\"\", \"\"id\"\": 2}, {\"\"name\"\": \"\"Jerry Bruckheimer Films\"\", \"\"id\"\": 130}, {\"\"name\"\": \"\"Saturn Films\"\", \"\"id\"\": 831}, {\"\"name\"\": \"\"Junction Entertainment\"\", \"\"id\"\": 19097}]\",\"[{\"\"iso_3166_1\"\": \"\"US\"\", \"\"name\"\": \"\"United States of America\"\"}]\",2004-11-19,347451894,131.0,\"[{\"\"iso_639_1\"\": \"\"la\"\", \"\"name\"\": \"\"Latin\"\"}, {\"\"iso_639_1\"\": \"\"en\"\", \"\"name\"\": \"\"English\"\"}, {\"\"iso_639_1\"\": \"\"es\"\", \"\"name\"\": \"\"Espa\\u00f1ol\"\"}]\",Released,The greatest adventure history has ever revealed.,National Treasure,6.4,1926,Nicolas Cage Diane Kruger Justin Bartha Sean Bean Jon Voight,\"[{'name': 'Avy Kaufman', 'gender': 1, 'department': 'Production', 'job': 'Casting', 'credit_id': '53579159c3a36856190028c5', 'id': 2952}, {'name': 'Jerry Bruckheimer', 'gender': 2, 'department': 'Production', 'job': 'Producer', 'credit_id': '52fe4331c3a36847f804146d', 'id': 770}, {'name': 'Mike Stenson', 'gender': 2, 'department': 'Production', 'job': 'Executive Producer', 'credit_id': '55723147c3a36838d30025ce', 'id': 2444}, {'name': 'Chad Oman', 'gender': 2, 'department': 'Production', 'job': 'Executive Producer', 'credit_id': '55723120c3a368376f0023f2', 'id': 2446}, {'name': 'Pat Sandston', 'gender': 0, 'department': 'Production', 'job': 'Associate Producer', 'credit_id': '5572312a9251416cd500249d', 'id': 2448}, {'name': 'William Goldenberg', 'gender': 0, 'department': 'Editing', 'job': 'Editor', 'credit_id': '52fe4331c3a36847f8041441', 'id': 15841}, {'name': 'Trevor Rabin', 'gender': 2, 'department': 'Sound', 'job': 'Original Music Composer', 'credit_id': '52fe4331c3a36847f804143b', 'id': 894}, {'name': 'Lawrence A. Hubbs', 'gender': 2, 'department': 'Art', 'job': 'Art Direction', 'credit_id': '5861712ec3a3681a7d02ffb9', 'id': 903}, {'name': 'Cary Weitz', 'gender': 0, 'department': 'Sound', 'job': 'Boom Operator', 'credit_id': '5861974c92514115ca036045', 'id': 7240}, {'name': 'Bob Badami', 'gender': 2, 'department': 'Sound', 'job': 'Music Supervisor', 'credit_id': '586197c092514115d3035af8', 'id': 5132}, {'name': 'Michael Uslan', 'gender': 2, 'department': 'Production', 'job': 'Associate Producer', 'credit_id': '557231529251416c2d002c60', 'id': 10949}, {'name': 'Benjamin Melniker', 'gender': 2, 'department': 'Production', 'job': 'Associate Producer', 'credit_id': '5572311692514108720055ae', 'id': 10951}, {'name': 'Caleb Deschanel', 'gender': 2, 'department': 'Camera', 'job': 'Director of Photography', 'credit_id': '52fe4331c3a36847f8041473', 'id': 8750}, {'name': 'Judianna Makovsky', 'gender': 1, 'department': 'Costume & Make-Up', 'job': 'Costume Design', 'credit_id': '53579170c3a36856190028c7', 'id': 10970}, {'name': 'Barry H. Waldman', 'gender': 0, 'department': 'Production', 'job': 'Executive Producer', 'credit_id': '5572315d9251416c2d002c62', 'id': 10122}, {'name': 'Anne D. McCulley', 'gender': 1, 'department': 'Art', 'job': 'Set Decoration', 'credit_id': '58617145c3a3681a62034ac4', 'id': 11375}, {'name': 'Robin Beauchesne', 'gender': 0, 'department': 'Costume & Make-Up', 'job': 'Makeup Artist', 'credit_id': '5861908e92514115ca03594f', 'id': 14381}, {'name': 'Erwin H. Kupitz', 'gender': 0, 'department': 'Costume & Make-Up', 'job': 'Wigmaker', 'credit_id': '58619145c3a3681a72038ec0', 'id': 12619}, {'name': 'Jon Turteltaub', 'gender': 2, 'department': 'Directing', 'job': 'Director', 'credit_id': '52fe4330c3a36847f804140b', 'id': 12962}, {'name': 'Jon Turteltaub', 'gender': 2, 'department': 'Production', 'job': 'Producer', 'credit_id': '52fe4331c3a36847f8041435', 'id': 12962}, {'name': 'Norris Spencer', 'gender': 2, 'department': 'Art', 'job': 'Production Design', 'credit_id': '586170d092514115c7033bce', 'id': 17400}, {'name': 'Jim Kouf', 'gender': 2, 'department': 'Writing', 'job': 'Original Story', 'credit_id': '52fe4330c3a36847f8041411', 'id': 21155}, {'name': 'Jim Kouf', 'gender': 2, 'department': 'Writing', 'job': 'Screenplay', 'credit_id': '52fe4331c3a36847f8041423', 'id': 21155}, {'name': 'Oren Aviv', 'gender': 0, 'department': 'Writing', 'job': 'Original Story', 'credit_id': '52fe4331c3a36847f8041417', 'id': 21156}, {'name': 'Oren Aviv', 'gender': 0, 'department': 'Production', 'job': 'Executive Producer', 'credit_id': '5572310b9251416cd\n"
          ]
        }
      ]
    },
    {
      "cell_type": "code",
      "source": [
        "# printing the first 5 rows of the dataframe\n",
        "movies_data.head()"
      ],
      "metadata": {
        "colab": {
          "base_uri": "https://localhost:8080/",
          "height": 764
        },
        "id": "vCblsa0HCWZb",
        "outputId": "b48dcde5-dac2-4f52-817e-fd834519e64d"
      },
      "execution_count": 16,
      "outputs": [
        {
          "output_type": "execute_result",
          "data": {
            "text/plain": [
              "   index  ...           director\n",
              "0      0  ...      James Cameron\n",
              "1      1  ...     Gore Verbinski\n",
              "2      2  ...         Sam Mendes\n",
              "3      3  ...  Christopher Nolan\n",
              "4      4  ...     Andrew Stanton\n",
              "\n",
              "[5 rows x 24 columns]"
            ],
            "text/html": [
              "\n",
              "  <div id=\"df-65071e54-8d60-4c94-9a2e-ac97800f7d47\" class=\"colab-df-container\">\n",
              "    <div>\n",
              "<style scoped>\n",
              "    .dataframe tbody tr th:only-of-type {\n",
              "        vertical-align: middle;\n",
              "    }\n",
              "\n",
              "    .dataframe tbody tr th {\n",
              "        vertical-align: top;\n",
              "    }\n",
              "\n",
              "    .dataframe thead th {\n",
              "        text-align: right;\n",
              "    }\n",
              "</style>\n",
              "<table border=\"1\" class=\"dataframe\">\n",
              "  <thead>\n",
              "    <tr style=\"text-align: right;\">\n",
              "      <th></th>\n",
              "      <th>index</th>\n",
              "      <th>budget</th>\n",
              "      <th>genres</th>\n",
              "      <th>homepage</th>\n",
              "      <th>id</th>\n",
              "      <th>keywords</th>\n",
              "      <th>original_language</th>\n",
              "      <th>original_title</th>\n",
              "      <th>overview</th>\n",
              "      <th>popularity</th>\n",
              "      <th>production_companies</th>\n",
              "      <th>production_countries</th>\n",
              "      <th>release_date</th>\n",
              "      <th>revenue</th>\n",
              "      <th>runtime</th>\n",
              "      <th>spoken_languages</th>\n",
              "      <th>status</th>\n",
              "      <th>tagline</th>\n",
              "      <th>title</th>\n",
              "      <th>vote_average</th>\n",
              "      <th>vote_count</th>\n",
              "      <th>cast</th>\n",
              "      <th>crew</th>\n",
              "      <th>director</th>\n",
              "    </tr>\n",
              "  </thead>\n",
              "  <tbody>\n",
              "    <tr>\n",
              "      <th>0</th>\n",
              "      <td>0</td>\n",
              "      <td>237000000</td>\n",
              "      <td>Action Adventure Fantasy Science Fiction</td>\n",
              "      <td>http://www.avatarmovie.com/</td>\n",
              "      <td>19995</td>\n",
              "      <td>culture clash future space war space colony so...</td>\n",
              "      <td>en</td>\n",
              "      <td>Avatar</td>\n",
              "      <td>In the 22nd century, a paraplegic Marine is di...</td>\n",
              "      <td>150.437577</td>\n",
              "      <td>[{\"name\": \"Ingenious Film Partners\", \"id\": 289...</td>\n",
              "      <td>[{\"iso_3166_1\": \"US\", \"name\": \"United States o...</td>\n",
              "      <td>2009-12-10</td>\n",
              "      <td>2787965087</td>\n",
              "      <td>162.0</td>\n",
              "      <td>[{\"iso_639_1\": \"en\", \"name\": \"English\"}, {\"iso...</td>\n",
              "      <td>Released</td>\n",
              "      <td>Enter the World of Pandora.</td>\n",
              "      <td>Avatar</td>\n",
              "      <td>7.2</td>\n",
              "      <td>11800</td>\n",
              "      <td>Sam Worthington Zoe Saldana Sigourney Weaver S...</td>\n",
              "      <td>[{'name': 'Stephen E. Rivkin', 'gender': 0, 'd...</td>\n",
              "      <td>James Cameron</td>\n",
              "    </tr>\n",
              "    <tr>\n",
              "      <th>1</th>\n",
              "      <td>1</td>\n",
              "      <td>300000000</td>\n",
              "      <td>Adventure Fantasy Action</td>\n",
              "      <td>http://disney.go.com/disneypictures/pirates/</td>\n",
              "      <td>285</td>\n",
              "      <td>ocean drug abuse exotic island east india trad...</td>\n",
              "      <td>en</td>\n",
              "      <td>Pirates of the Caribbean: At World's End</td>\n",
              "      <td>Captain Barbossa, long believed to be dead, ha...</td>\n",
              "      <td>139.082615</td>\n",
              "      <td>[{\"name\": \"Walt Disney Pictures\", \"id\": 2}, {\"...</td>\n",
              "      <td>[{\"iso_3166_1\": \"US\", \"name\": \"United States o...</td>\n",
              "      <td>2007-05-19</td>\n",
              "      <td>961000000</td>\n",
              "      <td>169.0</td>\n",
              "      <td>[{\"iso_639_1\": \"en\", \"name\": \"English\"}]</td>\n",
              "      <td>Released</td>\n",
              "      <td>At the end of the world, the adventure begins.</td>\n",
              "      <td>Pirates of the Caribbean: At World's End</td>\n",
              "      <td>6.9</td>\n",
              "      <td>4500</td>\n",
              "      <td>Johnny Depp Orlando Bloom Keira Knightley Stel...</td>\n",
              "      <td>[{'name': 'Dariusz Wolski', 'gender': 2, 'depa...</td>\n",
              "      <td>Gore Verbinski</td>\n",
              "    </tr>\n",
              "    <tr>\n",
              "      <th>2</th>\n",
              "      <td>2</td>\n",
              "      <td>245000000</td>\n",
              "      <td>Action Adventure Crime</td>\n",
              "      <td>http://www.sonypictures.com/movies/spectre/</td>\n",
              "      <td>206647</td>\n",
              "      <td>spy based on novel secret agent sequel mi6</td>\n",
              "      <td>en</td>\n",
              "      <td>Spectre</td>\n",
              "      <td>A cryptic message from Bond’s past sends him o...</td>\n",
              "      <td>107.376788</td>\n",
              "      <td>[{\"name\": \"Columbia Pictures\", \"id\": 5}, {\"nam...</td>\n",
              "      <td>[{\"iso_3166_1\": \"GB\", \"name\": \"United Kingdom\"...</td>\n",
              "      <td>2015-10-26</td>\n",
              "      <td>880674609</td>\n",
              "      <td>148.0</td>\n",
              "      <td>[{\"iso_639_1\": \"fr\", \"name\": \"Fran\\u00e7ais\"},...</td>\n",
              "      <td>Released</td>\n",
              "      <td>A Plan No One Escapes</td>\n",
              "      <td>Spectre</td>\n",
              "      <td>6.3</td>\n",
              "      <td>4466</td>\n",
              "      <td>Daniel Craig Christoph Waltz L\\u00e9a Seydoux ...</td>\n",
              "      <td>[{'name': 'Thomas Newman', 'gender': 2, 'depar...</td>\n",
              "      <td>Sam Mendes</td>\n",
              "    </tr>\n",
              "    <tr>\n",
              "      <th>3</th>\n",
              "      <td>3</td>\n",
              "      <td>250000000</td>\n",
              "      <td>Action Crime Drama Thriller</td>\n",
              "      <td>http://www.thedarkknightrises.com/</td>\n",
              "      <td>49026</td>\n",
              "      <td>dc comics crime fighter terrorist secret ident...</td>\n",
              "      <td>en</td>\n",
              "      <td>The Dark Knight Rises</td>\n",
              "      <td>Following the death of District Attorney Harve...</td>\n",
              "      <td>112.312950</td>\n",
              "      <td>[{\"name\": \"Legendary Pictures\", \"id\": 923}, {\"...</td>\n",
              "      <td>[{\"iso_3166_1\": \"US\", \"name\": \"United States o...</td>\n",
              "      <td>2012-07-16</td>\n",
              "      <td>1084939099</td>\n",
              "      <td>165.0</td>\n",
              "      <td>[{\"iso_639_1\": \"en\", \"name\": \"English\"}]</td>\n",
              "      <td>Released</td>\n",
              "      <td>The Legend Ends</td>\n",
              "      <td>The Dark Knight Rises</td>\n",
              "      <td>7.6</td>\n",
              "      <td>9106</td>\n",
              "      <td>Christian Bale Michael Caine Gary Oldman Anne ...</td>\n",
              "      <td>[{'name': 'Hans Zimmer', 'gender': 2, 'departm...</td>\n",
              "      <td>Christopher Nolan</td>\n",
              "    </tr>\n",
              "    <tr>\n",
              "      <th>4</th>\n",
              "      <td>4</td>\n",
              "      <td>260000000</td>\n",
              "      <td>Action Adventure Science Fiction</td>\n",
              "      <td>http://movies.disney.com/john-carter</td>\n",
              "      <td>49529</td>\n",
              "      <td>based on novel mars medallion space travel pri...</td>\n",
              "      <td>en</td>\n",
              "      <td>John Carter</td>\n",
              "      <td>John Carter is a war-weary, former military ca...</td>\n",
              "      <td>43.926995</td>\n",
              "      <td>[{\"name\": \"Walt Disney Pictures\", \"id\": 2}]</td>\n",
              "      <td>[{\"iso_3166_1\": \"US\", \"name\": \"United States o...</td>\n",
              "      <td>2012-03-07</td>\n",
              "      <td>284139100</td>\n",
              "      <td>132.0</td>\n",
              "      <td>[{\"iso_639_1\": \"en\", \"name\": \"English\"}]</td>\n",
              "      <td>Released</td>\n",
              "      <td>Lost in our world, found in another.</td>\n",
              "      <td>John Carter</td>\n",
              "      <td>6.1</td>\n",
              "      <td>2124</td>\n",
              "      <td>Taylor Kitsch Lynn Collins Samantha Morton Wil...</td>\n",
              "      <td>[{'name': 'Andrew Stanton', 'gender': 2, 'depa...</td>\n",
              "      <td>Andrew Stanton</td>\n",
              "    </tr>\n",
              "  </tbody>\n",
              "</table>\n",
              "</div>\n",
              "    <div class=\"colab-df-buttons\">\n",
              "\n",
              "  <div class=\"colab-df-container\">\n",
              "    <button class=\"colab-df-convert\" onclick=\"convertToInteractive('df-65071e54-8d60-4c94-9a2e-ac97800f7d47')\"\n",
              "            title=\"Convert this dataframe to an interactive table.\"\n",
              "            style=\"display:none;\">\n",
              "\n",
              "  <svg xmlns=\"http://www.w3.org/2000/svg\" height=\"24px\" viewBox=\"0 -960 960 960\">\n",
              "    <path d=\"M120-120v-720h720v720H120Zm60-500h600v-160H180v160Zm220 220h160v-160H400v160Zm0 220h160v-160H400v160ZM180-400h160v-160H180v160Zm440 0h160v-160H620v160ZM180-180h160v-160H180v160Zm440 0h160v-160H620v160Z\"/>\n",
              "  </svg>\n",
              "    </button>\n",
              "\n",
              "  <style>\n",
              "    .colab-df-container {\n",
              "      display:flex;\n",
              "      gap: 12px;\n",
              "    }\n",
              "\n",
              "    .colab-df-convert {\n",
              "      background-color: #E8F0FE;\n",
              "      border: none;\n",
              "      border-radius: 50%;\n",
              "      cursor: pointer;\n",
              "      display: none;\n",
              "      fill: #1967D2;\n",
              "      height: 32px;\n",
              "      padding: 0 0 0 0;\n",
              "      width: 32px;\n",
              "    }\n",
              "\n",
              "    .colab-df-convert:hover {\n",
              "      background-color: #E2EBFA;\n",
              "      box-shadow: 0px 1px 2px rgba(60, 64, 67, 0.3), 0px 1px 3px 1px rgba(60, 64, 67, 0.15);\n",
              "      fill: #174EA6;\n",
              "    }\n",
              "\n",
              "    .colab-df-buttons div {\n",
              "      margin-bottom: 4px;\n",
              "    }\n",
              "\n",
              "    [theme=dark] .colab-df-convert {\n",
              "      background-color: #3B4455;\n",
              "      fill: #D2E3FC;\n",
              "    }\n",
              "\n",
              "    [theme=dark] .colab-df-convert:hover {\n",
              "      background-color: #434B5C;\n",
              "      box-shadow: 0px 1px 3px 1px rgba(0, 0, 0, 0.15);\n",
              "      filter: drop-shadow(0px 1px 2px rgba(0, 0, 0, 0.3));\n",
              "      fill: #FFFFFF;\n",
              "    }\n",
              "  </style>\n",
              "\n",
              "    <script>\n",
              "      const buttonEl =\n",
              "        document.querySelector('#df-65071e54-8d60-4c94-9a2e-ac97800f7d47 button.colab-df-convert');\n",
              "      buttonEl.style.display =\n",
              "        google.colab.kernel.accessAllowed ? 'block' : 'none';\n",
              "\n",
              "      async function convertToInteractive(key) {\n",
              "        const element = document.querySelector('#df-65071e54-8d60-4c94-9a2e-ac97800f7d47');\n",
              "        const dataTable =\n",
              "          await google.colab.kernel.invokeFunction('convertToInteractive',\n",
              "                                                    [key], {});\n",
              "        if (!dataTable) return;\n",
              "\n",
              "        const docLinkHtml = 'Like what you see? Visit the ' +\n",
              "          '<a target=\"_blank\" href=https://colab.research.google.com/notebooks/data_table.ipynb>data table notebook</a>'\n",
              "          + ' to learn more about interactive tables.';\n",
              "        element.innerHTML = '';\n",
              "        dataTable['output_type'] = 'display_data';\n",
              "        await google.colab.output.renderOutput(dataTable, element);\n",
              "        const docLink = document.createElement('div');\n",
              "        docLink.innerHTML = docLinkHtml;\n",
              "        element.appendChild(docLink);\n",
              "      }\n",
              "    </script>\n",
              "  </div>\n",
              "\n",
              "\n",
              "    <div id=\"df-0b224225-7fe7-4ec1-bda7-a7af81e19c32\">\n",
              "      <button class=\"colab-df-quickchart\" onclick=\"quickchart('df-0b224225-7fe7-4ec1-bda7-a7af81e19c32')\"\n",
              "                title=\"Suggest charts\"\n",
              "                style=\"display:none;\">\n",
              "\n",
              "<svg xmlns=\"http://www.w3.org/2000/svg\" height=\"24px\"viewBox=\"0 0 24 24\"\n",
              "     width=\"24px\">\n",
              "    <g>\n",
              "        <path d=\"M19 3H5c-1.1 0-2 .9-2 2v14c0 1.1.9 2 2 2h14c1.1 0 2-.9 2-2V5c0-1.1-.9-2-2-2zM9 17H7v-7h2v7zm4 0h-2V7h2v10zm4 0h-2v-4h2v4z\"/>\n",
              "    </g>\n",
              "</svg>\n",
              "      </button>\n",
              "\n",
              "<style>\n",
              "  .colab-df-quickchart {\n",
              "      --bg-color: #E8F0FE;\n",
              "      --fill-color: #1967D2;\n",
              "      --hover-bg-color: #E2EBFA;\n",
              "      --hover-fill-color: #174EA6;\n",
              "      --disabled-fill-color: #AAA;\n",
              "      --disabled-bg-color: #DDD;\n",
              "  }\n",
              "\n",
              "  [theme=dark] .colab-df-quickchart {\n",
              "      --bg-color: #3B4455;\n",
              "      --fill-color: #D2E3FC;\n",
              "      --hover-bg-color: #434B5C;\n",
              "      --hover-fill-color: #FFFFFF;\n",
              "      --disabled-bg-color: #3B4455;\n",
              "      --disabled-fill-color: #666;\n",
              "  }\n",
              "\n",
              "  .colab-df-quickchart {\n",
              "    background-color: var(--bg-color);\n",
              "    border: none;\n",
              "    border-radius: 50%;\n",
              "    cursor: pointer;\n",
              "    display: none;\n",
              "    fill: var(--fill-color);\n",
              "    height: 32px;\n",
              "    padding: 0;\n",
              "    width: 32px;\n",
              "  }\n",
              "\n",
              "  .colab-df-quickchart:hover {\n",
              "    background-color: var(--hover-bg-color);\n",
              "    box-shadow: 0 1px 2px rgba(60, 64, 67, 0.3), 0 1px 3px 1px rgba(60, 64, 67, 0.15);\n",
              "    fill: var(--button-hover-fill-color);\n",
              "  }\n",
              "\n",
              "  .colab-df-quickchart-complete:disabled,\n",
              "  .colab-df-quickchart-complete:disabled:hover {\n",
              "    background-color: var(--disabled-bg-color);\n",
              "    fill: var(--disabled-fill-color);\n",
              "    box-shadow: none;\n",
              "  }\n",
              "\n",
              "  .colab-df-spinner {\n",
              "    border: 2px solid var(--fill-color);\n",
              "    border-color: transparent;\n",
              "    border-bottom-color: var(--fill-color);\n",
              "    animation:\n",
              "      spin 1s steps(1) infinite;\n",
              "  }\n",
              "\n",
              "  @keyframes spin {\n",
              "    0% {\n",
              "      border-color: transparent;\n",
              "      border-bottom-color: var(--fill-color);\n",
              "      border-left-color: var(--fill-color);\n",
              "    }\n",
              "    20% {\n",
              "      border-color: transparent;\n",
              "      border-left-color: var(--fill-color);\n",
              "      border-top-color: var(--fill-color);\n",
              "    }\n",
              "    30% {\n",
              "      border-color: transparent;\n",
              "      border-left-color: var(--fill-color);\n",
              "      border-top-color: var(--fill-color);\n",
              "      border-right-color: var(--fill-color);\n",
              "    }\n",
              "    40% {\n",
              "      border-color: transparent;\n",
              "      border-right-color: var(--fill-color);\n",
              "      border-top-color: var(--fill-color);\n",
              "    }\n",
              "    60% {\n",
              "      border-color: transparent;\n",
              "      border-right-color: var(--fill-color);\n",
              "    }\n",
              "    80% {\n",
              "      border-color: transparent;\n",
              "      border-right-color: var(--fill-color);\n",
              "      border-bottom-color: var(--fill-color);\n",
              "    }\n",
              "    90% {\n",
              "      border-color: transparent;\n",
              "      border-bottom-color: var(--fill-color);\n",
              "    }\n",
              "  }\n",
              "</style>\n",
              "\n",
              "      <script>\n",
              "        async function quickchart(key) {\n",
              "          const quickchartButtonEl =\n",
              "            document.querySelector('#' + key + ' button');\n",
              "          quickchartButtonEl.disabled = true;  // To prevent multiple clicks.\n",
              "          quickchartButtonEl.classList.add('colab-df-spinner');\n",
              "          try {\n",
              "            const charts = await google.colab.kernel.invokeFunction(\n",
              "                'suggestCharts', [key], {});\n",
              "          } catch (error) {\n",
              "            console.error('Error during call to suggestCharts:', error);\n",
              "          }\n",
              "          quickchartButtonEl.classList.remove('colab-df-spinner');\n",
              "          quickchartButtonEl.classList.add('colab-df-quickchart-complete');\n",
              "        }\n",
              "        (() => {\n",
              "          let quickchartButtonEl =\n",
              "            document.querySelector('#df-0b224225-7fe7-4ec1-bda7-a7af81e19c32 button');\n",
              "          quickchartButtonEl.style.display =\n",
              "            google.colab.kernel.accessAllowed ? 'block' : 'none';\n",
              "        })();\n",
              "      </script>\n",
              "    </div>\n",
              "\n",
              "    </div>\n",
              "  </div>\n"
            ],
            "application/vnd.google.colaboratory.intrinsic+json": {
              "type": "dataframe",
              "variable_name": "movies_data"
            }
          },
          "metadata": {},
          "execution_count": 16
        }
      ]
    },
    {
      "cell_type": "code",
      "source": [
        "# number of rows and columns  in the data frame\n",
        "movies_data.shape"
      ],
      "metadata": {
        "colab": {
          "base_uri": "https://localhost:8080/"
        },
        "id": "AHafcDc2DVmb",
        "outputId": "f0fe3fa5-f561-4906-8825-db42de68bb9c"
      },
      "execution_count": 17,
      "outputs": [
        {
          "output_type": "execute_result",
          "data": {
            "text/plain": [
              "(189, 24)"
            ]
          },
          "metadata": {},
          "execution_count": 17
        }
      ]
    },
    {
      "cell_type": "code",
      "source": [
        "# selecting the relevant features for recommendation\n",
        "selected_features = ['genres','keywords','tagline','cast','director']\n",
        "print(selected_features)"
      ],
      "metadata": {
        "colab": {
          "base_uri": "https://localhost:8080/"
        },
        "id": "8z2Wi0y4Dt-g",
        "outputId": "e40237e0-3314-4358-d646-11233c8c6469"
      },
      "execution_count": 18,
      "outputs": [
        {
          "output_type": "stream",
          "name": "stdout",
          "text": [
            "['genres', 'keywords', 'tagline', 'cast', 'director']\n"
          ]
        }
      ]
    },
    {
      "cell_type": "code",
      "source": [
        "# replacwing the null values with null string\n",
        "for feature in selected_features:\n",
        "  movies_data[feature] = movies_data[feature].fillna('')"
      ],
      "metadata": {
        "id": "uIhg6vmKFBz2"
      },
      "execution_count": 19,
      "outputs": []
    },
    {
      "cell_type": "code",
      "source": [
        "# combining all the 5 selected features\n",
        "combined_features = movies_data['genres']+''+movies_data['keywords']+''+movies_data['tagline']+''+movies_data['cast']+''+movies_data['director']"
      ],
      "metadata": {
        "id": "Mly35Fw4GCVD"
      },
      "execution_count": 21,
      "outputs": []
    },
    {
      "cell_type": "code",
      "source": [
        "print(combined_features)"
      ],
      "metadata": {
        "colab": {
          "base_uri": "https://localhost:8080/"
        },
        "id": "XSCSm70RHfHB",
        "outputId": "04817657-fd29-4edb-af8c-20a4061a543f"
      },
      "execution_count": 22,
      "outputs": [
        {
          "output_type": "stream",
          "name": "stdout",
          "text": [
            "0      Action Adventure Fantasy Science Fictioncultur...\n",
            "1      Adventure Fantasy Actionocean drug abuse exoti...\n",
            "2      Action Adventure Crimespy based on novel secre...\n",
            "3      Action Crime Drama Thrillerdc comics crime fig...\n",
            "4      Action Adventure Science Fictionbased on novel...\n",
            "                             ...                        \n",
            "184    Action Drama Mystery Thrillersuicide ambush sh...\n",
            "185    Drama Westernbounty hunter hero plantation soc...\n",
            "186    Drama Animation Familyparis based on novel jud...\n",
            "187    Adventure Animation Comedy Family Fantasycentr...\n",
            "188    Action Adventure Thrillerairplane number in ti...\n",
            "Length: 189, dtype: object\n"
          ]
        }
      ]
    },
    {
      "cell_type": "code",
      "source": [
        "# coverting the text data to feature vectors\n",
        "vectorizer = TfidfVectorizer()"
      ],
      "metadata": {
        "id": "UAHXUONEHrKl"
      },
      "execution_count": 23,
      "outputs": []
    },
    {
      "cell_type": "code",
      "source": [
        "feature_vectors = vectorizer.fit_transform(combined_features)"
      ],
      "metadata": {
        "id": "UArF2NbwIFqZ"
      },
      "execution_count": 24,
      "outputs": []
    },
    {
      "cell_type": "code",
      "source": [
        "print(feature_vectors)"
      ],
      "metadata": {
        "colab": {
          "base_uri": "https://localhost:8080/"
        },
        "id": "Ux5B61UjIhJd",
        "outputId": "1e05d340-e265-424e-cb12-1b4360eed820"
      },
      "execution_count": 25,
      "outputs": [
        {
          "output_type": "stream",
          "name": "stdout",
          "text": [
            "<Compressed Sparse Row sparse matrix of dtype 'float64'\n",
            "\twith 4687 stored elements and shape (189, 2410)>\n",
            "  Coords\tValues\n",
            "  (0, 13)\t0.06491549588764721\n",
            "  (0, 33)\t0.06765640594992742\n",
            "  (0, 739)\t0.11681269182724222\n",
            "  (0, 1871)\t0.08548733249889726\n",
            "  (0, 791)\t0.23586962930874425\n",
            "  (0, 405)\t0.21864978331400498\n",
            "  (0, 870)\t0.18266558054100696\n",
            "  (0, 1976)\t0.3269401179706429\n",
            "  (0, 2298)\t0.16751782187574396\n",
            "  (0, 426)\t0.21864978331400498\n",
            "  (0, 1962)\t0.23586962930874425\n",
            "  (0, 2107)\t0.09286271095357318\n",
            "  (0, 2376)\t0.14498237657841176\n",
            "  (0, 1569)\t0.12533504899784653\n",
            "  (0, 1610)\t0.23586962930874425\n",
            "  (0, 1844)\t0.1769945869820644\n",
            "  (0, 2383)\t0.20643210814540433\n",
            "  (0, 2408)\t0.19695534303908388\n",
            "  (0, 1840)\t0.20643210814540433\n",
            "  (0, 1935)\t0.23586962930874425\n",
            "  (0, 2322)\t0.23586962930874425\n",
            "  (0, 2013)\t0.21864978331400498\n",
            "  (0, 1266)\t0.23586962930874425\n",
            "  (0, 1444)\t0.19695534303908388\n",
            "  (0, 1796)\t0.23586962930874425\n",
            "  :\t:\n",
            "  (187, 1375)\t0.22418980977090927\n",
            "  (187, 575)\t0.22418980977090927\n",
            "  (188, 13)\t0.06477139459569102\n",
            "  (188, 33)\t0.06750622030668177\n",
            "  (188, 2298)\t0.1671459609783126\n",
            "  (188, 1096)\t0.1472295143838784\n",
            "  (188, 830)\t0.15288791930759071\n",
            "  (188, 303)\t0.19651813588227918\n",
            "  (188, 2331)\t0.21816441821233462\n",
            "  (188, 1140)\t0.18226009421155728\n",
            "  (188, 145)\t0.176601689287845\n",
            "  (188, 2350)\t0.21816441821233462\n",
            "  (188, 2123)\t0.23534603909577811\n",
            "  (188, 1566)\t0.23534603909577811\n",
            "  (188, 2158)\t0.23534603909577811\n",
            "  (188, 67)\t0.23534603909577811\n",
            "  (188, 480)\t0.23534603909577811\n",
            "  (188, 2276)\t0.23534603909577811\n",
            "  (188, 206)\t0.23534603909577811\n",
            "  (188, 2067)\t0.23534603909577811\n",
            "  (188, 1995)\t0.23534603909577811\n",
            "  (188, 2005)\t0.23534603909577811\n",
            "  (188, 584)\t0.23534603909577811\n",
            "  (188, 1352)\t0.23534603909577811\n",
            "  (188, 1869)\t0.23534603909577811\n"
          ]
        }
      ]
    },
    {
      "cell_type": "markdown",
      "source": [
        "Cosine Similarity"
      ],
      "metadata": {
        "id": "Fd3DcVx5I2u6"
      }
    },
    {
      "cell_type": "code",
      "source": [
        "# getting the similarity scores using cosine similarity\n",
        "similarity = cosine_similarity(feature_vectors)"
      ],
      "metadata": {
        "id": "SxDs0HWeI-YK"
      },
      "execution_count": 26,
      "outputs": []
    },
    {
      "cell_type": "code",
      "source": [
        "print(similarity)"
      ],
      "metadata": {
        "colab": {
          "base_uri": "https://localhost:8080/"
        },
        "id": "8WF6wEwNJai8",
        "outputId": "1e29a01b-9d97-42f6-8598-f6feeff2292f"
      },
      "execution_count": 27,
      "outputs": [
        {
          "output_type": "stream",
          "name": "stdout",
          "text": [
            "[[1.         0.08742884 0.00927382 ... 0.         0.00435073 0.03677182]\n",
            " [0.08742884 1.         0.0353334  ... 0.         0.0075242  0.00789863]\n",
            " [0.00927382 0.0353334  1.         ... 0.05999825 0.00458946 0.00925323]\n",
            " ...\n",
            " [0.         0.         0.05999825 ... 1.         0.01662204 0.        ]\n",
            " [0.00435073 0.0075242  0.00458946 ... 0.01662204 1.         0.00434107]\n",
            " [0.03677182 0.00789863 0.00925323 ... 0.         0.00434107 1.        ]]\n"
          ]
        }
      ]
    },
    {
      "cell_type": "code",
      "source": [
        "print(similarity.shape)"
      ],
      "metadata": {
        "colab": {
          "base_uri": "https://localhost:8080/"
        },
        "id": "P7SKK7owJndV",
        "outputId": "1aef0833-a327-4e3a-ba16-728398fcde84"
      },
      "execution_count": 28,
      "outputs": [
        {
          "output_type": "stream",
          "name": "stdout",
          "text": [
            "(189, 189)\n"
          ]
        }
      ]
    },
    {
      "cell_type": "code",
      "source": [
        "# getting the movie name from the user\n",
        "movie_name = input( 'Enter your favourite movie name :' )"
      ],
      "metadata": {
        "colab": {
          "base_uri": "https://localhost:8080/"
        },
        "id": "qz9rmnGnJ9gG",
        "outputId": "71c53ea6-505a-4bef-d76c-e12a753946e6"
      },
      "execution_count": 29,
      "outputs": [
        {
          "name": "stdout",
          "output_type": "stream",
          "text": [
            "Enter your favourite movie name :ironman\n"
          ]
        }
      ]
    },
    {
      "cell_type": "code",
      "source": [
        "# creating a list with all the movie names given in the dataset\n",
        "list_of_all_titles = movies_data['title'].tolist()\n",
        "print(list_of_all_titles)"
      ],
      "metadata": {
        "colab": {
          "base_uri": "https://localhost:8080/"
        },
        "id": "OYdU3MC7Keta",
        "outputId": "5bf63000-e161-43ab-a01b-e01d34c3c7c0"
      },
      "execution_count": 31,
      "outputs": [
        {
          "output_type": "stream",
          "name": "stdout",
          "text": [
            "['Avatar', \"Pirates of the Caribbean: At World's End\", 'Spectre', 'The Dark Knight Rises', 'John Carter', 'Spider-Man 3', 'Tangled', 'Avengers: Age of Ultron', 'Harry Potter and the Half-Blood Prince', 'Batman v Superman: Dawn of Justice', 'Superman Returns', 'Quantum of Solace', \"Pirates of the Caribbean: Dead Man's Chest\", 'The Lone Ranger', 'Man of Steel', 'The Chronicles of Narnia: Prince Caspian', 'The Avengers', 'Pirates of the Caribbean: On Stranger Tides', 'Men in Black 3', 'The Hobbit: The Battle of the Five Armies', 'The Amazing Spider-Man', 'Robin Hood', 'The Hobbit: The Desolation of Smaug', 'The Golden Compass', 'King Kong', 'Titanic', 'Captain America: Civil War', 'Battleship', 'Jurassic World', 'Skyfall', 'Spider-Man 2', 'Iron Man 3', 'Alice in Wonderland', 'X-Men: The Last Stand', 'Monsters University', 'Transformers: Revenge of the Fallen', 'Transformers: Age of Extinction', 'Oz: The Great and Powerful', 'The Amazing Spider-Man 2', 'TRON: Legacy', 'Cars 2', 'Green Lantern', 'Toy Story 3', 'Terminator Salvation', 'Furious 7', 'World War Z', 'X-Men: Days of Future Past', 'Star Trek Into Darkness', 'Jack the Giant Slayer', 'The Great Gatsby', 'Prince of Persia: The Sands of Time', 'Pacific Rim', 'Transformers: Dark of the Moon', 'Indiana Jones and the Kingdom of the Crystal Skull', 'The Good Dinosaur', 'Brave', 'Star Trek Beyond', 'WALL·E', 'Rush Hour 3', '2012', 'A Christmas Carol', 'Jupiter Ascending', 'The Legend of Tarzan', 'The Chronicles of Narnia: The Lion, the Witch and the Wardrobe', 'X-Men: Apocalypse', 'The Dark Knight', 'Up', 'Monsters vs Aliens', 'Iron Man', 'Hugo', 'Wild Wild West', 'The Mummy: Tomb of the Dragon Emperor', 'Suicide Squad', 'Evan Almighty', 'Edge of Tomorrow', 'Waterworld', 'G.I. Joe: The Rise of Cobra', 'Inside Out', 'The Jungle Book', 'Iron Man 2', 'Snow White and the Huntsman', 'Maleficent', 'Dawn of the Planet of the Apes', 'The Lovers', '47 Ronin', 'Captain America: The Winter Soldier', 'Shrek Forever After', 'Tomorrowland', 'Big Hero 6', 'Wreck-It Ralph', 'The Polar Express', 'Independence Day: Resurgence', 'How to Train Your Dragon', 'Terminator 3: Rise of the Machines', 'Guardians of the Galaxy', 'Interstellar', 'R.I.P.D.', 'Pirates of the Caribbean: The Curse of the Black Pearl', 'The Hunger Games: Mockingjay - Part 1', 'The Da Vinci Code', 'Rio 2', 'X2', 'Fast Five', 'Sherlock Holmes: A Game of Shadows', 'Clash of the Titans', 'Total Recall', 'The 13th Warrior', 'The Bourne Legacy', 'Batman & Robin', 'How the Grinch Stole Christmas', 'The Day After Tomorrow', 'Mission: Impossible II', 'The Perfect Storm', 'Fantastic 4: Rise of the Silver Surfer', 'Life of Pi', 'Ghost Rider', 'Jason Bourne', \"Charlie's Angels: Full Throttle\", 'Prometheus', 'Stuart Little 2', 'Elysium', 'The Chronicles of Riddick', 'RoboCop', 'Speed Racer', 'How Do You Know', 'Knight and Day', 'Oblivion', 'Star Wars: Episode III - Revenge of the Sith', 'Star Wars: Episode II - Attack of the Clones', 'Monsters, Inc.', 'The Wolverine', 'Star Wars: Episode I - The Phantom Menace', 'The Croods', 'Asterix at the Olympic Games', 'Windtalkers', \"The Huntsman: Winter's War\", 'Teenage Mutant Ninja Turtles', 'Gravity', \"Dante's Peak\", 'Teenage Mutant Ninja Turtles: Out of the Shadows', 'Fantastic Four', 'Night at the Museum', 'San Andreas', 'Tomorrow Never Dies', 'The Patriot', \"Ocean's Twelve\", 'Mr. & Mrs. Smith', 'Insurgent', 'The Aviator', \"Gulliver's Travels\", 'The Green Hornet', '300: Rise of an Empire', 'The Smurfs', 'Home on the Range', 'Allegiant', 'Real Steel', 'The Smurfs 2', 'Speed 2: Cruise Control', \"Ender's Game\", 'Live Free or Die Hard', 'The Lord of the Rings: The Fellowship of the Ring', 'Around the World in 80 Days', 'Ali', 'The Cat in the Hat', 'I, Robot', 'Kingdom of Heaven', 'Stuart Little', 'The Princess and the Frog', 'The Martian', 'The Island', 'Town & Country', 'Gone in Sixty Seconds', 'Gladiator', 'Minority Report', 'Harry Potter and the Chamber of Secrets', 'Casino Royale', 'Planet of the Apes', 'Terminator 2: Judgment Day', 'Public Enemies', 'American Gangster', 'True Lies', 'The Taking of Pelham 1 2 3', 'Little Fockers', 'The Other Guys', 'Eraser', 'Django Unchained', 'The Hunchback of Notre Dame', \"The Emperor's New Groove\", 'The Expendables 2']\n"
          ]
        }
      ]
    },
    {
      "cell_type": "code",
      "source": [
        "# finding the close match for the movie name given by the user\n",
        "find_close_match = difflib.get_close_matches (movie_name, list_of_all_titles)\n",
        "print(find_close_match)"
      ],
      "metadata": {
        "colab": {
          "base_uri": "https://localhost:8080/"
        },
        "id": "nrbMknXjLHQO",
        "outputId": "adbd5132-d078-43f8-9b79-2168bf04a9e5"
      },
      "execution_count": 33,
      "outputs": [
        {
          "output_type": "stream",
          "name": "stdout",
          "text": [
            "['Iron Man']\n"
          ]
        }
      ]
    },
    {
      "cell_type": "code",
      "source": [
        "close_match = find_close_match[0]\n",
        "print(close_match)"
      ],
      "metadata": {
        "colab": {
          "base_uri": "https://localhost:8080/"
        },
        "id": "34NvEucmLwPH",
        "outputId": "6580a327-04fd-4d62-9e8c-8aa7e3356140"
      },
      "execution_count": 35,
      "outputs": [
        {
          "output_type": "stream",
          "name": "stdout",
          "text": [
            "Iron Man\n"
          ]
        }
      ]
    },
    {
      "cell_type": "code",
      "source": [
        "# finding the index of the movie with title\n",
        "\n",
        "index_of_the_movie = movies_data[movies_data.title == close_match]['index'].values[0]\n",
        "print (index_of_the_movie)"
      ],
      "metadata": {
        "colab": {
          "base_uri": "https://localhost:8080/"
        },
        "id": "MQda--vSMB__",
        "outputId": "66d989a8-4cb8-4b09-9d6f-e1aa911089ea"
      },
      "execution_count": 40,
      "outputs": [
        {
          "output_type": "stream",
          "name": "stdout",
          "text": [
            "68\n"
          ]
        }
      ]
    },
    {
      "cell_type": "code",
      "source": [
        "# getting a list of similar movies\n",
        "\n",
        "similarity_score = list(enumerate(similarity[index_of_the_movie]))\n",
        "print(similarity_score)"
      ],
      "metadata": {
        "colab": {
          "base_uri": "https://localhost:8080/"
        },
        "id": "Cd1-2cuFNOgH",
        "outputId": "7ffd1fb1-29b1-4520-ec94-cf6406091c0b"
      },
      "execution_count": 41,
      "outputs": [
        {
          "output_type": "stream",
          "name": "stdout",
          "text": [
            "[(0, np.float64(0.010909509999674261)), (1, np.float64(0.03488966408602265)), (2, np.float64(0.004208914061970304)), (3, np.float64(0.004244736759183375)), (4, np.float64(0.010150180543347122)), (5, np.float64(0.003987948599758467)), (6, np.float64(0.07562067230948083)), (7, np.float64(0.13491008066309926)), (8, np.float64(0.0)), (9, np.float64(0.023692732554582922)), (10, np.float64(0.012463562707841793)), (11, np.float64(0.0035184879425672463)), (12, np.float64(0.0)), (13, np.float64(0.00394709274892248)), (14, np.float64(0.02893881761810885)), (15, np.float64(0.0)), (16, np.float64(0.16658333109390472)), (17, np.float64(0.0038268002773757265)), (18, np.float64(0.010161602552813696)), (19, np.float64(0.0035629704638011623)), (20, np.float64(0.04275238176979961)), (21, np.float64(0.0034830383041524805)), (22, np.float64(0.0)), (23, np.float64(0.0)), (24, np.float64(0.0)), (25, np.float64(0.0)), (26, np.float64(0.14396412896159935)), (27, np.float64(0.010096075446546964)), (28, np.float64(0.056839279405948906)), (29, np.float64(0.004183452588072778)), (30, np.float64(0.04159638065515976)), (31, np.float64(0.1966039659674902)), (32, np.float64(0.0364492251965109)), (33, np.float64(0.09120045518028283)), (34, np.float64(0.0)), (35, np.float64(0.02646509236442409)), (36, np.float64(0.024398672169804052)), (37, np.float64(0.0)), (38, np.float64(0.06571197435460038)), (39, np.float64(0.08405313779888254)), (40, np.float64(0.0)), (41, np.float64(0.010030817062910329)), (42, np.float64(0.0)), (43, np.float64(0.02426437779786933)), (44, np.float64(0.0)), (45, np.float64(0.022907585841792123)), (46, np.float64(0.10080688944405547)), (47, np.float64(0.012304946902854726)), (48, np.float64(0.004571932017207793)), (49, np.float64(0.0)), (50, np.float64(0.004148880763409676)), (51, np.float64(0.020714518141893505)), (52, np.float64(0.021032171614746232)), (53, np.float64(0.0)), (54, np.float64(0.042862220349064936)), (55, np.float64(0.0)), (56, np.float64(0.012797864528512864)), (57, np.float64(0.03906694511967321)), (58, np.float64(0.004691101663109746)), (59, np.float64(0.01075972770769406)), (60, np.float64(0.0)), (61, np.float64(0.024102148350160908)), (62, np.float64(0.004108846982602253)), (63, np.float64(0.0)), (64, np.float64(0.06615704793359682)), (65, np.float64(0.0039587099329034)), (66, np.float64(0.0)), (67, np.float64(0.0069953465588649425)), (68, np.float64(1.0)), (69, np.float64(0.0)), (70, np.float64(0.023591192775155485)), (71, np.float64(0.004584145967514751)), (72, np.float64(0.010883455996522781)), (73, np.float64(0.0)), (74, np.float64(0.011619523903211696)), (75, np.float64(0.0)), (76, np.float64(0.045118914015666665)), (77, np.float64(0.0)), (78, np.float64(0.04621452534107703)), (79, np.float64(0.20781648838665823)), (80, np.float64(0.0)), (81, np.float64(0.0034755786577640585)), (82, np.float64(0.024078396767031218)), (83, np.float64(0.026136436972769045)), (84, np.float64(0.0035102012988503704)), (85, np.float64(0.08052826910442358)), (86, np.float64(0.0)), (87, np.float64(0.006762185987204745)), (88, np.float64(0.003913198915280805)), (89, np.float64(0.0)), (90, np.float64(0.0)), (91, np.float64(0.07900852942154143)), (92, np.float64(0.0)), (93, np.float64(0.010374735275575022)), (94, np.float64(0.041966560652827466)), (95, np.float64(0.04011772779799928)), (96, np.float64(0.04336206802446202)), (97, np.float64(0.03716139926046146)), (98, np.float64(0.01989932859731311)), (99, np.float64(0.03525492794357489)), (100, np.float64(0.0)), (101, np.float64(0.07498646384795524)), (102, np.float64(0.003936484004014082)), (103, np.float64(0.0879292067752933)), (104, np.float64(0.0)), (105, np.float64(0.009756471980457548)), (106, np.float64(0.0)), (107, np.float64(0.003930819524881348)), (108, np.float64(0.0037145756365020532)), (109, np.float64(0.03221750362602802)), (110, np.float64(0.023556832355757545)), (111, np.float64(0.004256342916407203)), (112, np.float64(0.0)), (113, np.float64(0.004234828757150411)), (114, np.float64(0.0)), (115, np.float64(0.0035257873204455714)), (116, np.float64(0.004362989682819069)), (117, np.float64(0.02755248352999693)), (118, np.float64(0.01816778560355758)), (119, np.float64(0.0)), (120, np.float64(0.0239775919169061)), (121, np.float64(0.009947861727282738)), (122, np.float64(0.010247497822500357)), (123, np.float64(0.01141621185358786)), (124, np.float64(0.0)), (125, np.float64(0.003834099238208863)), (126, np.float64(0.02392798772907297)), (127, np.float64(0.02056374140882434)), (128, np.float64(0.00949871300156209)), (129, np.float64(0.0)), (130, np.float64(0.040006446370593515)), (131, np.float64(0.008818144478929814)), (132, np.float64(0.0)), (133, np.float64(0.0)), (134, np.float64(0.0037668769865378954)), (135, np.float64(0.0037530106593588177)), (136, np.float64(0.021941894198536687)), (137, np.float64(0.019548162792789203)), (138, np.float64(0.0038257822698817795)), (139, np.float64(0.02332515766179409)), (140, np.float64(0.034128056626613966)), (141, np.float64(0.003782496965974535)), (142, np.float64(0.0033667746769054153)), (143, np.float64(0.0032502693454052435)), (144, np.float64(0.0)), (145, np.float64(0.0)), (146, np.float64(0.004028101034118822)), (147, np.float64(0.020444404065732714)), (148, np.float64(0.0)), (149, np.float64(0.0)), (150, np.float64(0.00405514652347196)), (151, np.float64(0.0034572319807179997)), (152, np.float64(0.017921385551914172)), (153, np.float64(0.0)), (154, np.float64(0.00706928262075892)), (155, np.float64(0.02274088359564934)), (156, np.float64(0.0)), (157, np.float64(0.003577146307677165)), (158, np.float64(0.023761561830381847)), (159, np.float64(0.00397716002254272)), (160, np.float64(0.0)), (161, np.float64(0.024447388036562337)), (162, np.float64(0.0)), (163, np.float64(0.0)), (164, np.float64(0.010495096460749037)), (165, np.float64(0.0032622443969618)), (166, np.float64(0.0)), (167, np.float64(0.0)), (168, np.float64(0.04307697078199649)), (169, np.float64(0.025561127885292734)), (170, np.float64(0.0)), (171, np.float64(0.0036779770206831056)), (172, np.float64(0.004094238024756915)), (173, np.float64(0.02142661182040065)), (174, np.float64(0.0)), (175, np.float64(0.00394635036638759)), (176, np.float64(0.055887403318964475)), (177, np.float64(0.035437906941197556)), (178, np.float64(0.0)), (179, np.float64(0.0)), (180, np.float64(0.0032047233732138093)), (181, np.float64(0.0)), (182, np.float64(0.020397019080455735)), (183, np.float64(0.0035913367848108674)), (184, np.float64(0.024459026419202428)), (185, np.float64(0.0)), (186, np.float64(0.0)), (187, np.float64(0.0)), (188, np.float64(0.003981117718829831))]\n"
          ]
        }
      ]
    },
    {
      "cell_type": "code",
      "source": [
        "len(similarity_score)"
      ],
      "metadata": {
        "colab": {
          "base_uri": "https://localhost:8080/"
        },
        "id": "wgYbvMJwNpV0",
        "outputId": "bb2f76bb-1c0a-4e89-9098-6b8e1274ae20"
      },
      "execution_count": 42,
      "outputs": [
        {
          "output_type": "execute_result",
          "data": {
            "text/plain": [
              "189"
            ]
          },
          "metadata": {},
          "execution_count": 42
        }
      ]
    },
    {
      "cell_type": "code",
      "source": [
        "# sorting the movies based on their similarity score\n",
        "\n",
        "sorted_similar_movies = sorted(similarity_score, key = lambda x:x[1], reverse = True)\n",
        "print(sorted_similar_movies)"
      ],
      "metadata": {
        "colab": {
          "base_uri": "https://localhost:8080/"
        },
        "id": "Zi1QMIxqN66x",
        "outputId": "0b9ca1d0-83ce-48d2-ef33-2425f74c7619"
      },
      "execution_count": 43,
      "outputs": [
        {
          "output_type": "stream",
          "name": "stdout",
          "text": [
            "[(68, np.float64(1.0)), (79, np.float64(0.20781648838665823)), (31, np.float64(0.1966039659674902)), (16, np.float64(0.16658333109390472)), (26, np.float64(0.14396412896159935)), (7, np.float64(0.13491008066309926)), (46, np.float64(0.10080688944405547)), (33, np.float64(0.09120045518028283)), (103, np.float64(0.0879292067752933)), (39, np.float64(0.08405313779888254)), (85, np.float64(0.08052826910442358)), (91, np.float64(0.07900852942154143)), (6, np.float64(0.07562067230948083)), (101, np.float64(0.07498646384795524)), (64, np.float64(0.06615704793359682)), (38, np.float64(0.06571197435460038)), (28, np.float64(0.056839279405948906)), (176, np.float64(0.055887403318964475)), (78, np.float64(0.04621452534107703)), (76, np.float64(0.045118914015666665)), (96, np.float64(0.04336206802446202)), (168, np.float64(0.04307697078199649)), (54, np.float64(0.042862220349064936)), (20, np.float64(0.04275238176979961)), (94, np.float64(0.041966560652827466)), (30, np.float64(0.04159638065515976)), (95, np.float64(0.04011772779799928)), (130, np.float64(0.040006446370593515)), (57, np.float64(0.03906694511967321)), (97, np.float64(0.03716139926046146)), (32, np.float64(0.0364492251965109)), (177, np.float64(0.035437906941197556)), (99, np.float64(0.03525492794357489)), (1, np.float64(0.03488966408602265)), (140, np.float64(0.034128056626613966)), (109, np.float64(0.03221750362602802)), (14, np.float64(0.02893881761810885)), (117, np.float64(0.02755248352999693)), (35, np.float64(0.02646509236442409)), (83, np.float64(0.026136436972769045)), (169, np.float64(0.025561127885292734)), (184, np.float64(0.024459026419202428)), (161, np.float64(0.024447388036562337)), (36, np.float64(0.024398672169804052)), (43, np.float64(0.02426437779786933)), (61, np.float64(0.024102148350160908)), (82, np.float64(0.024078396767031218)), (120, np.float64(0.0239775919169061)), (126, np.float64(0.02392798772907297)), (158, np.float64(0.023761561830381847)), (9, np.float64(0.023692732554582922)), (70, np.float64(0.023591192775155485)), (110, np.float64(0.023556832355757545)), (139, np.float64(0.02332515766179409)), (45, np.float64(0.022907585841792123)), (155, np.float64(0.02274088359564934)), (136, np.float64(0.021941894198536687)), (173, np.float64(0.02142661182040065)), (52, np.float64(0.021032171614746232)), (51, np.float64(0.020714518141893505)), (127, np.float64(0.02056374140882434)), (147, np.float64(0.020444404065732714)), (182, np.float64(0.020397019080455735)), (98, np.float64(0.01989932859731311)), (137, np.float64(0.019548162792789203)), (118, np.float64(0.01816778560355758)), (152, np.float64(0.017921385551914172)), (56, np.float64(0.012797864528512864)), (10, np.float64(0.012463562707841793)), (47, np.float64(0.012304946902854726)), (74, np.float64(0.011619523903211696)), (123, np.float64(0.01141621185358786)), (0, np.float64(0.010909509999674261)), (72, np.float64(0.010883455996522781)), (59, np.float64(0.01075972770769406)), (164, np.float64(0.010495096460749037)), (93, np.float64(0.010374735275575022)), (122, np.float64(0.010247497822500357)), (18, np.float64(0.010161602552813696)), (4, np.float64(0.010150180543347122)), (27, np.float64(0.010096075446546964)), (41, np.float64(0.010030817062910329)), (121, np.float64(0.009947861727282738)), (105, np.float64(0.009756471980457548)), (128, np.float64(0.00949871300156209)), (131, np.float64(0.008818144478929814)), (154, np.float64(0.00706928262075892)), (67, np.float64(0.0069953465588649425)), (87, np.float64(0.006762185987204745)), (58, np.float64(0.004691101663109746)), (71, np.float64(0.004584145967514751)), (48, np.float64(0.004571932017207793)), (116, np.float64(0.004362989682819069)), (111, np.float64(0.004256342916407203)), (3, np.float64(0.004244736759183375)), (113, np.float64(0.004234828757150411)), (2, np.float64(0.004208914061970304)), (29, np.float64(0.004183452588072778)), (50, np.float64(0.004148880763409676)), (62, np.float64(0.004108846982602253)), (172, np.float64(0.004094238024756915)), (150, np.float64(0.00405514652347196)), (146, np.float64(0.004028101034118822)), (5, np.float64(0.003987948599758467)), (188, np.float64(0.003981117718829831)), (159, np.float64(0.00397716002254272)), (65, np.float64(0.0039587099329034)), (13, np.float64(0.00394709274892248)), (175, np.float64(0.00394635036638759)), (102, np.float64(0.003936484004014082)), (107, np.float64(0.003930819524881348)), (88, np.float64(0.003913198915280805)), (125, np.float64(0.003834099238208863)), (17, np.float64(0.0038268002773757265)), (138, np.float64(0.0038257822698817795)), (141, np.float64(0.003782496965974535)), (134, np.float64(0.0037668769865378954)), (135, np.float64(0.0037530106593588177)), (108, np.float64(0.0037145756365020532)), (171, np.float64(0.0036779770206831056)), (183, np.float64(0.0035913367848108674)), (157, np.float64(0.003577146307677165)), (19, np.float64(0.0035629704638011623)), (115, np.float64(0.0035257873204455714)), (11, np.float64(0.0035184879425672463)), (84, np.float64(0.0035102012988503704)), (21, np.float64(0.0034830383041524805)), (81, np.float64(0.0034755786577640585)), (151, np.float64(0.0034572319807179997)), (142, np.float64(0.0033667746769054153)), (165, np.float64(0.0032622443969618)), (143, np.float64(0.0032502693454052435)), (180, np.float64(0.0032047233732138093)), (8, np.float64(0.0)), (12, np.float64(0.0)), (15, np.float64(0.0)), (22, np.float64(0.0)), (23, np.float64(0.0)), (24, np.float64(0.0)), (25, np.float64(0.0)), (34, np.float64(0.0)), (37, np.float64(0.0)), (40, np.float64(0.0)), (42, np.float64(0.0)), (44, np.float64(0.0)), (49, np.float64(0.0)), (53, np.float64(0.0)), (55, np.float64(0.0)), (60, np.float64(0.0)), (63, np.float64(0.0)), (66, np.float64(0.0)), (69, np.float64(0.0)), (73, np.float64(0.0)), (75, np.float64(0.0)), (77, np.float64(0.0)), (80, np.float64(0.0)), (86, np.float64(0.0)), (89, np.float64(0.0)), (90, np.float64(0.0)), (92, np.float64(0.0)), (100, np.float64(0.0)), (104, np.float64(0.0)), (106, np.float64(0.0)), (112, np.float64(0.0)), (114, np.float64(0.0)), (119, np.float64(0.0)), (124, np.float64(0.0)), (129, np.float64(0.0)), (132, np.float64(0.0)), (133, np.float64(0.0)), (144, np.float64(0.0)), (145, np.float64(0.0)), (148, np.float64(0.0)), (149, np.float64(0.0)), (153, np.float64(0.0)), (156, np.float64(0.0)), (160, np.float64(0.0)), (162, np.float64(0.0)), (163, np.float64(0.0)), (166, np.float64(0.0)), (167, np.float64(0.0)), (170, np.float64(0.0)), (174, np.float64(0.0)), (178, np.float64(0.0)), (179, np.float64(0.0)), (181, np.float64(0.0)), (185, np.float64(0.0)), (186, np.float64(0.0)), (187, np.float64(0.0))]\n"
          ]
        }
      ]
    },
    {
      "cell_type": "code",
      "source": [
        "# print the name of similar movies based on the index\n",
        "print('Movies suggested for you: \\n')\n",
        "i=1\n",
        "\n",
        "for movie in sorted_similar_movies:\n",
        "  index = movie[0]\n",
        "  title_from_index = movies_data[movies_data.index==index]['title'].values[0]\n",
        "  if (i<20):\n",
        "    print(i, '.', title_from_index)\n",
        "    i+=1"
      ],
      "metadata": {
        "colab": {
          "base_uri": "https://localhost:8080/"
        },
        "id": "mHPr11E_OYT0",
        "outputId": "0c3b4f17-cae5-4f87-acbc-ecf060883fcb"
      },
      "execution_count": 46,
      "outputs": [
        {
          "output_type": "stream",
          "name": "stdout",
          "text": [
            "Movies suggested for you: \n",
            "\n",
            "1 . Iron Man\n",
            "2 . Iron Man 2\n",
            "3 . Iron Man 3\n",
            "4 . The Avengers\n",
            "5 . Captain America: Civil War\n",
            "6 . Avengers: Age of Ultron\n",
            "7 . X-Men: Days of Future Past\n",
            "8 . X-Men: The Last Stand\n",
            "9 . Sherlock Holmes: A Game of Shadows\n",
            "10 . TRON: Legacy\n",
            "11 . Captain America: The Winter Soldier\n",
            "12 . Independence Day: Resurgence\n",
            "13 . Tangled\n",
            "14 . X2\n",
            "15 . X-Men: Apocalypse\n",
            "16 . The Amazing Spider-Man 2\n",
            "17 . Jurassic World\n",
            "18 . Planet of the Apes\n",
            "19 . The Jungle Book\n"
          ]
        }
      ]
    },
    {
      "cell_type": "markdown",
      "source": [
        "Movie Recommendation Sytem"
      ],
      "metadata": {
        "id": "9K2AVtnxQtIm"
      }
    },
    {
      "cell_type": "code",
      "source": [
        "movie_name = input(' Enter your favourite movie name: ')\n",
        "\n",
        "list_of_all_titles = movies_data['title'].tolist()\n",
        "\n",
        "find_close_match = difflib.get_close_matches (movie_name, list_of_all_titles)\n",
        "\n",
        "close_match = find_close_match[0]\n",
        "\n",
        "index_of_the_movie = movies_data[movies_data.title == close_match]['index'].values [0]\n",
        "\n",
        "sorted_similar_movies = sorted(similarity_score, key = lambda x:x[1], reverse = True)\n",
        "\n",
        "print('Movies suggested for you: \\n')\n",
        "\n",
        "i=1\n",
        "\n",
        "for movie in sorted_similar_movies:\n",
        "  index = movie[0]\n",
        "  title_from_index = movies_data[movies_data.index==index]['title'].values[0]\n",
        "  if (i<20):\n",
        "    print(i, '.', title_from_index)\n",
        "    i+=1"
      ],
      "metadata": {
        "colab": {
          "base_uri": "https://localhost:8080/"
        },
        "id": "xWbnuHLdRdoe",
        "outputId": "e5156f8f-d45e-41a5-b0fc-6c9a39726a50"
      },
      "execution_count": 48,
      "outputs": [
        {
          "output_type": "stream",
          "name": "stdout",
          "text": [
            " Enter your favourite movie name: iron man\n",
            "Movies suggested for you: \n",
            "\n",
            "1 . Iron Man\n",
            "2 . Iron Man 2\n",
            "3 . Iron Man 3\n",
            "4 . The Avengers\n",
            "5 . Captain America: Civil War\n",
            "6 . Avengers: Age of Ultron\n",
            "7 . X-Men: Days of Future Past\n",
            "8 . X-Men: The Last Stand\n",
            "9 . Sherlock Holmes: A Game of Shadows\n",
            "10 . TRON: Legacy\n",
            "11 . Captain America: The Winter Soldier\n",
            "12 . Independence Day: Resurgence\n",
            "13 . Tangled\n",
            "14 . X2\n",
            "15 . X-Men: Apocalypse\n",
            "16 . The Amazing Spider-Man 2\n",
            "17 . Jurassic World\n",
            "18 . Planet of the Apes\n",
            "19 . The Jungle Book\n"
          ]
        }
      ]
    }
  ]
}